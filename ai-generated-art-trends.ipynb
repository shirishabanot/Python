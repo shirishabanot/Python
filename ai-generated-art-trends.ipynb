{
 "cells": [
  {
   "cell_type": "code",
   "execution_count": 1,
   "id": "4a031c62-4188-4ffc-8e41-bd5cb1c35609",
   "metadata": {},
   "outputs": [],
   "source": [
    "\n",
    "# Dataset link below.\n",
    "import numpy as np\n",
    "import pandas as pd\n",
    "import matplotlib.pyplot as plt\n",
    "import seaborn as sns"
   ]
  },
  {
   "cell_type": "code",
   "execution_count": 2,
   "id": "615135b4-5ab1-4ab0-9ec1-26d159c9c06b",
   "metadata": {},
   "outputs": [],
   "source": [
    "# https://www.kaggle.com/datasets/waqi786/ai-generated-art-trends"
   ]
  },
  {
   "cell_type": "code",
   "execution_count": 3,
   "id": "dae9ea3c-bfce-4bf2-88b5-4676524adfc5",
   "metadata": {},
   "outputs": [
    {
     "data": {
      "text/html": [
       "<div>\n",
       "<style scoped>\n",
       "    .dataframe tbody tr th:only-of-type {\n",
       "        vertical-align: middle;\n",
       "    }\n",
       "\n",
       "    .dataframe tbody tr th {\n",
       "        vertical-align: top;\n",
       "    }\n",
       "\n",
       "    .dataframe thead th {\n",
       "        text-align: right;\n",
       "    }\n",
       "</style>\n",
       "<table border=\"1\" class=\"dataframe\">\n",
       "  <thead>\n",
       "    <tr style=\"text-align: right;\">\n",
       "      <th></th>\n",
       "      <th>Artwork_ID</th>\n",
       "      <th>Artist_Name</th>\n",
       "      <th>Art_Style</th>\n",
       "      <th>Creation_Date</th>\n",
       "      <th>Medium</th>\n",
       "      <th>Tools_Used</th>\n",
       "      <th>Popularity_Score</th>\n",
       "      <th>Region</th>\n",
       "      <th>Art_Genre</th>\n",
       "      <th>Platform</th>\n",
       "      <th>Description</th>\n",
       "      <th>Image_URL</th>\n",
       "    </tr>\n",
       "  </thead>\n",
       "  <tbody>\n",
       "    <tr>\n",
       "      <th>0</th>\n",
       "      <td>ART-00001</td>\n",
       "      <td>DALL-E</td>\n",
       "      <td>Conceptual</td>\n",
       "      <td>2023-03-11</td>\n",
       "      <td>Collage</td>\n",
       "      <td>GANPaint</td>\n",
       "      <td>1604.25</td>\n",
       "      <td>South America</td>\n",
       "      <td>Urban</td>\n",
       "      <td>Instagram</td>\n",
       "      <td>A mesmerizing piece of art that blends traditi...</td>\n",
       "      <td>https://example.com/artwork/00001.jpg</td>\n",
       "    </tr>\n",
       "    <tr>\n",
       "      <th>1</th>\n",
       "      <td>ART-00002</td>\n",
       "      <td>AbstractoBot</td>\n",
       "      <td>Futurism</td>\n",
       "      <td>2022-11-27</td>\n",
       "      <td>Oil Paint</td>\n",
       "      <td>MidJourney</td>\n",
       "      <td>4162.12</td>\n",
       "      <td>North America</td>\n",
       "      <td>Abstract</td>\n",
       "      <td>Dribbble</td>\n",
       "      <td>A mesmerizing piece of art that blends traditi...</td>\n",
       "      <td>https://example.com/artwork/00002.jpg</td>\n",
       "    </tr>\n",
       "    <tr>\n",
       "      <th>2</th>\n",
       "      <td>ART-00003</td>\n",
       "      <td>Vincent</td>\n",
       "      <td>Futurism</td>\n",
       "      <td>2024-03-13</td>\n",
       "      <td>Charcoal</td>\n",
       "      <td>GANPaint</td>\n",
       "      <td>2989.38</td>\n",
       "      <td>Europe</td>\n",
       "      <td>Mythology</td>\n",
       "      <td>Reddit</td>\n",
       "      <td>A mesmerizing piece of art that blends traditi...</td>\n",
       "      <td>https://example.com/artwork/00003.jpg</td>\n",
       "    </tr>\n",
       "    <tr>\n",
       "      <th>3</th>\n",
       "      <td>ART-00004</td>\n",
       "      <td>ArtBreeder</td>\n",
       "      <td>Impressionism</td>\n",
       "      <td>2022-09-12</td>\n",
       "      <td>Pencil Sketch</td>\n",
       "      <td>ArtBreeder</td>\n",
       "      <td>2985.97</td>\n",
       "      <td>Europe</td>\n",
       "      <td>Still Life</td>\n",
       "      <td>Tumblr</td>\n",
       "      <td>A mesmerizing piece of art that blends traditi...</td>\n",
       "      <td>https://example.com/artwork/00004.jpg</td>\n",
       "    </tr>\n",
       "    <tr>\n",
       "      <th>4</th>\n",
       "      <td>ART-00005</td>\n",
       "      <td>DALL-E</td>\n",
       "      <td>Surrealism</td>\n",
       "      <td>2022-12-05</td>\n",
       "      <td>Collage</td>\n",
       "      <td>DeepDream</td>\n",
       "      <td>2035.18</td>\n",
       "      <td>Asia</td>\n",
       "      <td>Conceptual</td>\n",
       "      <td>DeviantArt</td>\n",
       "      <td>A mesmerizing piece of art that blends traditi...</td>\n",
       "      <td>https://example.com/artwork/00005.jpg</td>\n",
       "    </tr>\n",
       "  </tbody>\n",
       "</table>\n",
       "</div>"
      ],
      "text/plain": [
       "  Artwork_ID   Artist_Name      Art_Style Creation_Date         Medium  \\\n",
       "0  ART-00001        DALL-E     Conceptual    2023-03-11        Collage   \n",
       "1  ART-00002  AbstractoBot       Futurism    2022-11-27      Oil Paint   \n",
       "2  ART-00003       Vincent       Futurism    2024-03-13       Charcoal   \n",
       "3  ART-00004    ArtBreeder  Impressionism    2022-09-12  Pencil Sketch   \n",
       "4  ART-00005        DALL-E     Surrealism    2022-12-05        Collage   \n",
       "\n",
       "   Tools_Used  Popularity_Score         Region   Art_Genre    Platform  \\\n",
       "0    GANPaint           1604.25  South America       Urban   Instagram   \n",
       "1  MidJourney           4162.12  North America    Abstract    Dribbble   \n",
       "2    GANPaint           2989.38         Europe   Mythology      Reddit   \n",
       "3  ArtBreeder           2985.97         Europe  Still Life      Tumblr   \n",
       "4   DeepDream           2035.18           Asia  Conceptual  DeviantArt   \n",
       "\n",
       "                                         Description  \\\n",
       "0  A mesmerizing piece of art that blends traditi...   \n",
       "1  A mesmerizing piece of art that blends traditi...   \n",
       "2  A mesmerizing piece of art that blends traditi...   \n",
       "3  A mesmerizing piece of art that blends traditi...   \n",
       "4  A mesmerizing piece of art that blends traditi...   \n",
       "\n",
       "                               Image_URL  \n",
       "0  https://example.com/artwork/00001.jpg  \n",
       "1  https://example.com/artwork/00002.jpg  \n",
       "2  https://example.com/artwork/00003.jpg  \n",
       "3  https://example.com/artwork/00004.jpg  \n",
       "4  https://example.com/artwork/00005.jpg  "
      ]
     },
     "execution_count": 3,
     "metadata": {},
     "output_type": "execute_result"
    }
   ],
   "source": [
    "# Questions on dataset \n",
    "df=pd.read_csv(r\"C:\\Users\\hp\\Downloads\\archive (2)\\ai_generated_art_trends_2024.csv\")\n",
    "df.head()"
   ]
  },
  {
   "cell_type": "code",
   "execution_count": null,
   "id": "ee7184f7",
   "metadata": {},
   "outputs": [],
   "source": []
  },
  {
   "cell_type": "markdown",
   "id": "6a6296a0-8b03-4112-bb80-5fb72604fa12",
   "metadata": {},
   "source": [
    "### 1.What are the different art styles present in the dataset?"
   ]
  },
  {
   "cell_type": "code",
   "execution_count": 4,
   "id": "b985b2fb",
   "metadata": {},
   "outputs": [
    {
     "data": {
      "text/plain": [
       "Index(['Artwork_ID', 'Artist_Name', 'Art_Style', 'Creation_Date', 'Medium',\n",
       "       'Tools_Used', 'Popularity_Score', 'Region', 'Art_Genre', 'Platform',\n",
       "       'Description', 'Image_URL'],\n",
       "      dtype='object')"
      ]
     },
     "execution_count": 4,
     "metadata": {},
     "output_type": "execute_result"
    }
   ],
   "source": [
    "df.columns"
   ]
  },
  {
   "cell_type": "code",
   "execution_count": 5,
   "id": "f87d9a12-d8eb-447f-bd4b-fc9fb40d52dc",
   "metadata": {},
   "outputs": [
    {
     "name": "stdout",
     "output_type": "stream",
     "text": [
      "['Conceptual' 'Futurism' 'Impressionism' 'Surrealism' 'Abstract' 'Realism'\n",
      " 'Minimalism' 'Pop Art' 'Cubism' 'Expressionism']\n"
     ]
    }
   ],
   "source": [
    "# code here.\n",
    "data=df[\"Art_Style\"].unique()\n",
    "print(data)"
   ]
  },
  {
   "cell_type": "markdown",
   "id": "20ce2a05-14eb-45c1-9ac2-6d79f1d027b7",
   "metadata": {},
   "source": [
    "### 2.How many artworks were created in the year 2023?\n"
   ]
  },
  {
   "cell_type": "code",
   "execution_count": 6,
   "id": "0715753a",
   "metadata": {},
   "outputs": [
    {
     "data": {
      "text/plain": [
       "Index(['Artwork_ID', 'Artist_Name', 'Art_Style', 'Creation_Date', 'Medium',\n",
       "       'Tools_Used', 'Popularity_Score', 'Region', 'Art_Genre', 'Platform',\n",
       "       'Description', 'Image_URL'],\n",
       "      dtype='object')"
      ]
     },
     "execution_count": 6,
     "metadata": {},
     "output_type": "execute_result"
    }
   ],
   "source": [
    "df.columns"
   ]
  },
  {
   "cell_type": "code",
   "execution_count": 7,
   "id": "bde0da88-fa9f-44f7-a343-a5683836d663",
   "metadata": {},
   "outputs": [
    {
     "name": "stdout",
     "output_type": "stream",
     "text": [
      "Number of artworks created in 2023: 0\n"
     ]
    }
   ],
   "source": [
    "data = df[df['Creation_Date'] == 2023].shape[0]\n",
    "\n",
    "# Display the count\n",
    "print(f\"Number of artworks created in 2023: {data}\")"
   ]
  },
  {
   "cell_type": "markdown",
   "id": "8c95113f-380b-4806-9227-ac565b6d28e6",
   "metadata": {},
   "source": [
    "### 3.Find all artworks that have a \"Popularity_Score\" greater than 4000.\n"
   ]
  },
  {
   "cell_type": "code",
   "execution_count": 8,
   "id": "2760c5d6-e5d8-4309-b9ea-8e5bb7979ade",
   "metadata": {},
   "outputs": [
    {
     "name": "stdout",
     "output_type": "stream",
     "text": [
      "     Artwork_ID   Artist_Name      Art_Style Creation_Date         Medium  \\\n",
      "1     ART-00002  AbstractoBot       Futurism    2022-11-27      Oil Paint   \n",
      "5     ART-00006        DALL-E       Futurism    2022-12-13      Oil Paint   \n",
      "7     ART-00008        DALL-E  Impressionism    2024-07-22       3D Model   \n",
      "19    ART-00020     PicassoAI     Minimalism    2022-10-07       3D Model   \n",
      "35    ART-00036       Vincent     Conceptual    2023-09-03  Pencil Sketch   \n",
      "...         ...           ...            ...           ...            ...   \n",
      "9972  ART-09973        DALL-E  Expressionism    2024-01-19  Acrylic Paint   \n",
      "9975  ART-09976    ArtBreeder  Impressionism    2023-04-03  Pencil Sketch   \n",
      "9978  ART-09979  AbstractoBot       Futurism    2024-03-07        Collage   \n",
      "9981  ART-09982        DALL-E     Minimalism    2023-06-13     Watercolor   \n",
      "9996  ART-09997     RenoirBot        Pop Art    2023-04-05  Acrylic Paint   \n",
      "\n",
      "      Tools_Used  Popularity_Score         Region   Art_Genre    Platform  \\\n",
      "1     MidJourney           4162.12  North America    Abstract    Dribbble   \n",
      "5         DALL-E           4535.59           Asia    Abstract   Instagram   \n",
      "7      DeepDream           4989.07           Asia   Landscape   Instagram   \n",
      "19      GANPaint           4899.42         Africa  Conceptual     Behance   \n",
      "35    MidJourney           4992.66         Europe      Nature  DeviantArt   \n",
      "...          ...               ...            ...         ...         ...   \n",
      "9972   DeepDream           4277.85  North America     Fantasy   Instagram   \n",
      "9975  ArtBreeder           4273.38         Europe    Portrait     Twitter   \n",
      "9978  ArtBreeder           4487.09         Europe   Mythology     Twitter   \n",
      "9981    GANPaint           4045.10         Europe  Still Life  ArtStation   \n",
      "9996    GANPaint           4715.45        Oceania   Landscape   Instagram   \n",
      "\n",
      "                                            Description  \\\n",
      "1     A mesmerizing piece of art that blends traditi...   \n",
      "5     A mesmerizing piece of art that blends traditi...   \n",
      "7     A mesmerizing piece of art that blends traditi...   \n",
      "19    A mesmerizing piece of art that blends traditi...   \n",
      "35    A mesmerizing piece of art that blends traditi...   \n",
      "...                                                 ...   \n",
      "9972  A mesmerizing piece of art that blends traditi...   \n",
      "9975  A mesmerizing piece of art that blends traditi...   \n",
      "9978  A mesmerizing piece of art that blends traditi...   \n",
      "9981  A mesmerizing piece of art that blends traditi...   \n",
      "9996  A mesmerizing piece of art that blends traditi...   \n",
      "\n",
      "                                  Image_URL  \n",
      "1     https://example.com/artwork/00002.jpg  \n",
      "5     https://example.com/artwork/00006.jpg  \n",
      "7     https://example.com/artwork/00008.jpg  \n",
      "19    https://example.com/artwork/00020.jpg  \n",
      "35    https://example.com/artwork/00036.jpg  \n",
      "...                                     ...  \n",
      "9972  https://example.com/artwork/09973.jpg  \n",
      "9975  https://example.com/artwork/09976.jpg  \n",
      "9978  https://example.com/artwork/09979.jpg  \n",
      "9981  https://example.com/artwork/09982.jpg  \n",
      "9996  https://example.com/artwork/09997.jpg  \n",
      "\n",
      "[2020 rows x 12 columns]\n"
     ]
    }
   ],
   "source": [
    "# code here.\n",
    "data1 = df[df['Popularity_Score'] > 4000]\n",
    "\n",
    "print(data1)\n"
   ]
  },
  {
   "cell_type": "markdown",
   "id": "2a36dfd3-5437-4d70-9e52-54df53bfdc6e",
   "metadata": {},
   "source": [
    "### 4.Calculate the total number of artworks for each \"Region\".\n"
   ]
  },
  {
   "cell_type": "code",
   "execution_count": 9,
   "id": "d5068bd6-3747-4ec9-8784-cdbe45f3b113",
   "metadata": {},
   "outputs": [
    {
     "data": {
      "text/plain": [
       "Region\n",
       "Africa           1636\n",
       "Asia             1648\n",
       "Europe           1700\n",
       "North America    1659\n",
       "Oceania          1629\n",
       "South America    1728\n",
       "dtype: int64"
      ]
     },
     "execution_count": 9,
     "metadata": {},
     "output_type": "execute_result"
    }
   ],
   "source": [
    "# code here\n",
    "data2 = df.groupby('Region').size()\n",
    "\n",
    "data2\n"
   ]
  },
  {
   "cell_type": "markdown",
   "id": "7c94f1aa-fc8f-4e28-9042-483536e7d3bf",
   "metadata": {},
   "source": [
    "### 5.What is the average \"Popularity_Score\" of artworks in the \"Futurism\" art style?\n"
   ]
  },
  {
   "cell_type": "code",
   "execution_count": 10,
   "id": "0f1efce8-a2ce-49d9-97c4-f1641c150faf",
   "metadata": {},
   "outputs": [
    {
     "name": "stdout",
     "output_type": "stream",
     "text": [
      "Average Popularity Score of 'Futurism' artworks: 2522.9186909448817\n"
     ]
    }
   ],
   "source": [
    "# code here.\n",
    "data3 = df[df['Art_Style'] == 'Futurism']\n",
    "\n",
    "popularity_score = data3['Popularity_Score'].mean()\n",
    "\n",
    "print(f\"Average Popularity Score of 'Futurism' artworks: {popularity_score}\")"
   ]
  },
  {
   "cell_type": "markdown",
   "id": "e835b22b-76fd-4d43-b84d-f4483c23f136",
   "metadata": {},
   "source": [
    "### 6.Sort the artworks by \"Popularity_Score\" and display the top 10 most popular artworks.\n"
   ]
  },
  {
   "cell_type": "code",
   "execution_count": 11,
   "id": "5a662a01-0d59-4b27-9a5e-1255e3593df4",
   "metadata": {},
   "outputs": [
    {
     "name": "stdout",
     "output_type": "stream",
     "text": [
      "     Artwork_ID       Artist_Name      Art_Style Creation_Date         Medium  \\\n",
      "9119  ART-09120     NeoSurrealist        Realism    2023-10-23            Ink   \n",
      "612   ART-00613       AIArtist123     Conceptual    2024-03-15        Digital   \n",
      "4358  ART-04359     NeoSurrealist       Abstract    2023-04-24       Charcoal   \n",
      "7260  ART-07261         RenoirBot  Expressionism    2023-09-24  Acrylic Paint   \n",
      "4490  ART-04491  GenerativeGenius        Pop Art    2023-09-12       3D Model   \n",
      "1239  ART-01240         PicassoAI       Abstract    2022-10-11       3D Model   \n",
      "4205  ART-04206     NeoSurrealist  Impressionism    2023-01-09  Acrylic Paint   \n",
      "1620  ART-01621            DALL-E       Abstract    2022-12-15     Watercolor   \n",
      "8587  ART-08588         RenoirBot  Expressionism    2024-05-07    Mixed Media   \n",
      "6499  ART-06500            DALL-E       Futurism    2023-01-30    Mixed Media   \n",
      "\n",
      "      Tools_Used  Popularity_Score         Region   Art_Genre    Platform  \\\n",
      "9119  ArtBreeder           4999.62  South America     Fantasy     Behance   \n",
      "612   ArtBreeder           4999.50  South America   Mythology  ArtStation   \n",
      "4358      DALL-E           4999.33  North America    Abstract   Instagram   \n",
      "7260      DALL-E           4999.04        Oceania       Urban      Flickr   \n",
      "4490    GANPaint           4997.50  North America     Fantasy      Flickr   \n",
      "1239    GANPaint           4995.40         Europe      Sci-Fi     Behance   \n",
      "4205  ArtBreeder           4994.38  North America      Nature    Dribbble   \n",
      "1620  ArtBreeder           4994.25  South America  Still Life     Twitter   \n",
      "8587      DALL-E           4993.96        Oceania       Urban    Dribbble   \n",
      "6499  ArtBreeder           4993.89         Africa    Abstract   Instagram   \n",
      "\n",
      "                                            Description  \\\n",
      "9119  A mesmerizing piece of art that blends traditi...   \n",
      "612   A mesmerizing piece of art that blends traditi...   \n",
      "4358  A mesmerizing piece of art that blends traditi...   \n",
      "7260  A mesmerizing piece of art that blends traditi...   \n",
      "4490  A mesmerizing piece of art that blends traditi...   \n",
      "1239  A mesmerizing piece of art that blends traditi...   \n",
      "4205  A mesmerizing piece of art that blends traditi...   \n",
      "1620  A mesmerizing piece of art that blends traditi...   \n",
      "8587  A mesmerizing piece of art that blends traditi...   \n",
      "6499  A mesmerizing piece of art that blends traditi...   \n",
      "\n",
      "                                  Image_URL  \n",
      "9119  https://example.com/artwork/09120.jpg  \n",
      "612   https://example.com/artwork/00613.jpg  \n",
      "4358  https://example.com/artwork/04359.jpg  \n",
      "7260  https://example.com/artwork/07261.jpg  \n",
      "4490  https://example.com/artwork/04491.jpg  \n",
      "1239  https://example.com/artwork/01240.jpg  \n",
      "4205  https://example.com/artwork/04206.jpg  \n",
      "1620  https://example.com/artwork/01621.jpg  \n",
      "8587  https://example.com/artwork/08588.jpg  \n",
      "6499  https://example.com/artwork/06500.jpg  \n"
     ]
    }
   ],
   "source": [
    "# code here.\n",
    "data4 = df.sort_values(by='Popularity_Score', ascending=False)\n",
    "\n",
    "score = data4.head(10)\n",
    "\n",
    "\n",
    "print(score)"
   ]
  },
  {
   "cell_type": "markdown",
   "id": "3b7caec2-5d10-43ca-9f03-50d62033d114",
   "metadata": {},
   "source": [
    "### 7.Group the artworks by \"Artist_Name\" and calculate the average \"Popularity_Score\" for each artist."
   ]
  },
  {
   "cell_type": "code",
   "execution_count": 12,
   "id": "8c090b2a-cb56-4912-b82e-3ef74e8b9d45",
   "metadata": {},
   "outputs": [
    {
     "data": {
      "text/plain": [
       "Artist_Name\n",
       "AIArtist123         2402.990198\n",
       "AbstractoBot        2438.509925\n",
       "ArtBreeder          2418.609719\n",
       "DALL-E              2490.125094\n",
       "DaVinciNet          2558.465712\n",
       "DeepArt             2591.649838\n",
       "DeepDream           2498.119969\n",
       "GANPaint            2549.093847\n",
       "GenerativeGenius    2566.583829\n",
       "MidJourney          2471.910375\n",
       "MonaBot             2487.533201\n",
       "NeoSurrealist       2480.058879\n",
       "PicassoAI           2510.702214\n",
       "RenoirBot           2598.548453\n",
       "Vincent             2563.740516\n",
       "Name: Popularity_Score, dtype: float64"
      ]
     },
     "execution_count": 12,
     "metadata": {},
     "output_type": "execute_result"
    }
   ],
   "source": [
    "# code here.\n",
    "data = df.groupby('Artist_Name')['Popularity_Score'].mean()\n",
    "data"
   ]
  },
  {
   "cell_type": "markdown",
   "id": "4d1e181e-77b8-46ff-b38d-c9fe1d1794d6",
   "metadata": {},
   "source": [
    "### 8.Group the data by \"Art_Style\" and count the number of artworks in each style.\n"
   ]
  },
  {
   "cell_type": "code",
   "execution_count": 13,
   "id": "ae169fb0-f343-4273-a2aa-f658bdbc48f7",
   "metadata": {},
   "outputs": [
    {
     "data": {
      "text/plain": [
       "Art_Style\n",
       "Abstract          949\n",
       "Conceptual        969\n",
       "Cubism           1050\n",
       "Expressionism    1021\n",
       "Futurism         1016\n",
       "Impressionism     996\n",
       "Minimalism        995\n",
       "Pop Art          1008\n",
       "Realism          1022\n",
       "Surrealism        974\n",
       "Name: Art_Style, dtype: int64"
      ]
     },
     "execution_count": 13,
     "metadata": {},
     "output_type": "execute_result"
    }
   ],
   "source": [
    "# code here.\n",
    "data = df.groupby('Art_Style')['Art_Style'].count()\n",
    "data"
   ]
  },
  {
   "cell_type": "markdown",
   "id": "0ecebc5f-0b08-4f80-baff-91bf5355cb65",
   "metadata": {},
   "source": [
    "### 9.How many artworks were created using each medium?"
   ]
  },
  {
   "cell_type": "code",
   "execution_count": 14,
   "id": "ce08f6cf-456d-4cfe-9e84-ff98c866eca9",
   "metadata": {},
   "outputs": [
    {
     "data": {
      "text/plain": [
       "Medium\n",
       "Pencil Sketch    1048\n",
       "Mixed Media      1041\n",
       "Acrylic Paint    1025\n",
       "Watercolor       1010\n",
       "Digital           999\n",
       "Collage           998\n",
       "Charcoal          983\n",
       "Oil Paint         979\n",
       "Ink               959\n",
       "3D Model          958\n",
       "Name: count, dtype: int64"
      ]
     },
     "execution_count": 14,
     "metadata": {},
     "output_type": "execute_result"
    }
   ],
   "source": [
    "# code here.\n",
    "data = df['Medium'].value_counts()\n",
    "data"
   ]
  },
  {
   "cell_type": "markdown",
   "id": "3b8feac9-74ca-4bc5-98ab-df1c5ebfe61c",
   "metadata": {},
   "source": [
    "### 10.Check for any missing values in the dataset.\n"
   ]
  },
  {
   "cell_type": "code",
   "execution_count": 15,
   "id": "0bd6147d-f01a-4e35-a3ee-1d6b44930595",
   "metadata": {},
   "outputs": [
    {
     "data": {
      "text/plain": [
       "Artwork_ID          0\n",
       "Artist_Name         0\n",
       "Art_Style           0\n",
       "Creation_Date       0\n",
       "Medium              0\n",
       "Tools_Used          0\n",
       "Popularity_Score    0\n",
       "Region              0\n",
       "Art_Genre           0\n",
       "Platform            0\n",
       "Description         0\n",
       "Image_URL           0\n",
       "dtype: int64"
      ]
     },
     "execution_count": 15,
     "metadata": {},
     "output_type": "execute_result"
    }
   ],
   "source": [
    "# code here.\n",
    "df.isna().sum()"
   ]
  },
  {
   "cell_type": "markdown",
   "id": "989c9bcb-dd63-4c1b-9fe8-523f7100531f",
   "metadata": {},
   "source": [
    "### 11.Calculate the standard deviation of the \"Popularity_Score\" for each \"Art_Style\".\n"
   ]
  },
  {
   "cell_type": "code",
   "execution_count": 16,
   "id": "12c6c41a-6027-4229-9da6-19447f8ac33e",
   "metadata": {},
   "outputs": [
    {
     "data": {
      "text/plain": [
       "Art_Style\n",
       "Abstract         1457.836653\n",
       "Conceptual       1426.173350\n",
       "Cubism           1451.142056\n",
       "Expressionism    1465.789492\n",
       "Futurism         1422.966785\n",
       "Impressionism    1391.974547\n",
       "Minimalism       1434.589041\n",
       "Pop Art          1435.627543\n",
       "Realism          1411.020359\n",
       "Surrealism       1409.886662\n",
       "Name: Popularity_Score, dtype: float64"
      ]
     },
     "execution_count": 16,
     "metadata": {},
     "output_type": "execute_result"
    }
   ],
   "source": [
    "# code here.\n",
    "data = df.groupby('Art_Style')['Popularity_Score'].std()\n",
    "data"
   ]
  },
  {
   "cell_type": "markdown",
   "id": "7c3061eb-3675-479f-b1a6-063517b7098b",
   "metadata": {},
   "source": [
    "### 12.Calculate the mean, median, and standard deviation of the \"Popularity_Score\" for artworks created using \"GANPaint\""
   ]
  },
  {
   "cell_type": "code",
   "execution_count": 17,
   "id": "a2d7c402-aa4d-4078-af0a-600006dd0076",
   "metadata": {},
   "outputs": [
    {
     "data": {
      "text/plain": [
       "mean     NaN\n",
       "median   NaN\n",
       "std      NaN\n",
       "Name: Popularity_Score, dtype: float64"
      ]
     },
     "execution_count": 17,
     "metadata": {},
     "output_type": "execute_result"
    }
   ],
   "source": [
    "# code here.\n",
    "data=df[df['Medium'] == 'GANPaint']['Popularity_Score'].agg(['mean', 'median', 'std'])\n",
    "data"
   ]
  },
  {
   "cell_type": "code",
   "execution_count": 18,
   "id": "71d03f11",
   "metadata": {},
   "outputs": [
    {
     "data": {
      "text/plain": [
       "Index(['Artwork_ID', 'Artist_Name', 'Art_Style', 'Creation_Date', 'Medium',\n",
       "       'Tools_Used', 'Popularity_Score', 'Region', 'Art_Genre', 'Platform',\n",
       "       'Description', 'Image_URL'],\n",
       "      dtype='object')"
      ]
     },
     "execution_count": 18,
     "metadata": {},
     "output_type": "execute_result"
    }
   ],
   "source": [
    "df.columns"
   ]
  },
  {
   "cell_type": "markdown",
   "id": "0212eb8b-5616-4b39-97e9-f422bd25cb2c",
   "metadata": {},
   "source": [
    "### 13.Count the number of artworks created by each artist"
   ]
  },
  {
   "cell_type": "code",
   "execution_count": 19,
   "id": "a5c0c520-1c51-42ea-8edc-38bbc33681a4",
   "metadata": {},
   "outputs": [
    {
     "data": {
      "text/html": [
       "<div>\n",
       "<style scoped>\n",
       "    .dataframe tbody tr th:only-of-type {\n",
       "        vertical-align: middle;\n",
       "    }\n",
       "\n",
       "    .dataframe tbody tr th {\n",
       "        vertical-align: top;\n",
       "    }\n",
       "\n",
       "    .dataframe thead th {\n",
       "        text-align: right;\n",
       "    }\n",
       "</style>\n",
       "<table border=\"1\" class=\"dataframe\">\n",
       "  <thead>\n",
       "    <tr style=\"text-align: right;\">\n",
       "      <th></th>\n",
       "      <th>Artwork_ID</th>\n",
       "      <th>Art_Style</th>\n",
       "      <th>Creation_Date</th>\n",
       "      <th>Medium</th>\n",
       "      <th>Tools_Used</th>\n",
       "      <th>Popularity_Score</th>\n",
       "      <th>Region</th>\n",
       "      <th>Art_Genre</th>\n",
       "      <th>Platform</th>\n",
       "      <th>Description</th>\n",
       "      <th>Image_URL</th>\n",
       "    </tr>\n",
       "    <tr>\n",
       "      <th>Artist_Name</th>\n",
       "      <th></th>\n",
       "      <th></th>\n",
       "      <th></th>\n",
       "      <th></th>\n",
       "      <th></th>\n",
       "      <th></th>\n",
       "      <th></th>\n",
       "      <th></th>\n",
       "      <th></th>\n",
       "      <th></th>\n",
       "      <th></th>\n",
       "    </tr>\n",
       "  </thead>\n",
       "  <tbody>\n",
       "    <tr>\n",
       "      <th>AIArtist123</th>\n",
       "      <td>657</td>\n",
       "      <td>657</td>\n",
       "      <td>657</td>\n",
       "      <td>657</td>\n",
       "      <td>657</td>\n",
       "      <td>657</td>\n",
       "      <td>657</td>\n",
       "      <td>657</td>\n",
       "      <td>657</td>\n",
       "      <td>657</td>\n",
       "      <td>657</td>\n",
       "    </tr>\n",
       "    <tr>\n",
       "      <th>AbstractoBot</th>\n",
       "      <td>665</td>\n",
       "      <td>665</td>\n",
       "      <td>665</td>\n",
       "      <td>665</td>\n",
       "      <td>665</td>\n",
       "      <td>665</td>\n",
       "      <td>665</td>\n",
       "      <td>665</td>\n",
       "      <td>665</td>\n",
       "      <td>665</td>\n",
       "      <td>665</td>\n",
       "    </tr>\n",
       "    <tr>\n",
       "      <th>ArtBreeder</th>\n",
       "      <td>675</td>\n",
       "      <td>675</td>\n",
       "      <td>675</td>\n",
       "      <td>675</td>\n",
       "      <td>675</td>\n",
       "      <td>675</td>\n",
       "      <td>675</td>\n",
       "      <td>675</td>\n",
       "      <td>675</td>\n",
       "      <td>675</td>\n",
       "      <td>675</td>\n",
       "    </tr>\n",
       "    <tr>\n",
       "      <th>DALL-E</th>\n",
       "      <td>691</td>\n",
       "      <td>691</td>\n",
       "      <td>691</td>\n",
       "      <td>691</td>\n",
       "      <td>691</td>\n",
       "      <td>691</td>\n",
       "      <td>691</td>\n",
       "      <td>691</td>\n",
       "      <td>691</td>\n",
       "      <td>691</td>\n",
       "      <td>691</td>\n",
       "    </tr>\n",
       "    <tr>\n",
       "      <th>DaVinciNet</th>\n",
       "      <td>681</td>\n",
       "      <td>681</td>\n",
       "      <td>681</td>\n",
       "      <td>681</td>\n",
       "      <td>681</td>\n",
       "      <td>681</td>\n",
       "      <td>681</td>\n",
       "      <td>681</td>\n",
       "      <td>681</td>\n",
       "      <td>681</td>\n",
       "      <td>681</td>\n",
       "    </tr>\n",
       "    <tr>\n",
       "      <th>DeepArt</th>\n",
       "      <td>678</td>\n",
       "      <td>678</td>\n",
       "      <td>678</td>\n",
       "      <td>678</td>\n",
       "      <td>678</td>\n",
       "      <td>678</td>\n",
       "      <td>678</td>\n",
       "      <td>678</td>\n",
       "      <td>678</td>\n",
       "      <td>678</td>\n",
       "      <td>678</td>\n",
       "    </tr>\n",
       "    <tr>\n",
       "      <th>DeepDream</th>\n",
       "      <td>649</td>\n",
       "      <td>649</td>\n",
       "      <td>649</td>\n",
       "      <td>649</td>\n",
       "      <td>649</td>\n",
       "      <td>649</td>\n",
       "      <td>649</td>\n",
       "      <td>649</td>\n",
       "      <td>649</td>\n",
       "      <td>649</td>\n",
       "      <td>649</td>\n",
       "    </tr>\n",
       "    <tr>\n",
       "      <th>GANPaint</th>\n",
       "      <td>668</td>\n",
       "      <td>668</td>\n",
       "      <td>668</td>\n",
       "      <td>668</td>\n",
       "      <td>668</td>\n",
       "      <td>668</td>\n",
       "      <td>668</td>\n",
       "      <td>668</td>\n",
       "      <td>668</td>\n",
       "      <td>668</td>\n",
       "      <td>668</td>\n",
       "    </tr>\n",
       "    <tr>\n",
       "      <th>GenerativeGenius</th>\n",
       "      <td>619</td>\n",
       "      <td>619</td>\n",
       "      <td>619</td>\n",
       "      <td>619</td>\n",
       "      <td>619</td>\n",
       "      <td>619</td>\n",
       "      <td>619</td>\n",
       "      <td>619</td>\n",
       "      <td>619</td>\n",
       "      <td>619</td>\n",
       "      <td>619</td>\n",
       "    </tr>\n",
       "    <tr>\n",
       "      <th>MidJourney</th>\n",
       "      <td>694</td>\n",
       "      <td>694</td>\n",
       "      <td>694</td>\n",
       "      <td>694</td>\n",
       "      <td>694</td>\n",
       "      <td>694</td>\n",
       "      <td>694</td>\n",
       "      <td>694</td>\n",
       "      <td>694</td>\n",
       "      <td>694</td>\n",
       "      <td>694</td>\n",
       "    </tr>\n",
       "    <tr>\n",
       "      <th>MonaBot</th>\n",
       "      <td>656</td>\n",
       "      <td>656</td>\n",
       "      <td>656</td>\n",
       "      <td>656</td>\n",
       "      <td>656</td>\n",
       "      <td>656</td>\n",
       "      <td>656</td>\n",
       "      <td>656</td>\n",
       "      <td>656</td>\n",
       "      <td>656</td>\n",
       "      <td>656</td>\n",
       "    </tr>\n",
       "    <tr>\n",
       "      <th>NeoSurrealist</th>\n",
       "      <td>678</td>\n",
       "      <td>678</td>\n",
       "      <td>678</td>\n",
       "      <td>678</td>\n",
       "      <td>678</td>\n",
       "      <td>678</td>\n",
       "      <td>678</td>\n",
       "      <td>678</td>\n",
       "      <td>678</td>\n",
       "      <td>678</td>\n",
       "      <td>678</td>\n",
       "    </tr>\n",
       "    <tr>\n",
       "      <th>PicassoAI</th>\n",
       "      <td>664</td>\n",
       "      <td>664</td>\n",
       "      <td>664</td>\n",
       "      <td>664</td>\n",
       "      <td>664</td>\n",
       "      <td>664</td>\n",
       "      <td>664</td>\n",
       "      <td>664</td>\n",
       "      <td>664</td>\n",
       "      <td>664</td>\n",
       "      <td>664</td>\n",
       "    </tr>\n",
       "    <tr>\n",
       "      <th>RenoirBot</th>\n",
       "      <td>666</td>\n",
       "      <td>666</td>\n",
       "      <td>666</td>\n",
       "      <td>666</td>\n",
       "      <td>666</td>\n",
       "      <td>666</td>\n",
       "      <td>666</td>\n",
       "      <td>666</td>\n",
       "      <td>666</td>\n",
       "      <td>666</td>\n",
       "      <td>666</td>\n",
       "    </tr>\n",
       "    <tr>\n",
       "      <th>Vincent</th>\n",
       "      <td>659</td>\n",
       "      <td>659</td>\n",
       "      <td>659</td>\n",
       "      <td>659</td>\n",
       "      <td>659</td>\n",
       "      <td>659</td>\n",
       "      <td>659</td>\n",
       "      <td>659</td>\n",
       "      <td>659</td>\n",
       "      <td>659</td>\n",
       "      <td>659</td>\n",
       "    </tr>\n",
       "  </tbody>\n",
       "</table>\n",
       "</div>"
      ],
      "text/plain": [
       "                  Artwork_ID  Art_Style  Creation_Date  Medium  Tools_Used  \\\n",
       "Artist_Name                                                                  \n",
       "AIArtist123              657        657            657     657         657   \n",
       "AbstractoBot             665        665            665     665         665   \n",
       "ArtBreeder               675        675            675     675         675   \n",
       "DALL-E                   691        691            691     691         691   \n",
       "DaVinciNet               681        681            681     681         681   \n",
       "DeepArt                  678        678            678     678         678   \n",
       "DeepDream                649        649            649     649         649   \n",
       "GANPaint                 668        668            668     668         668   \n",
       "GenerativeGenius         619        619            619     619         619   \n",
       "MidJourney               694        694            694     694         694   \n",
       "MonaBot                  656        656            656     656         656   \n",
       "NeoSurrealist            678        678            678     678         678   \n",
       "PicassoAI                664        664            664     664         664   \n",
       "RenoirBot                666        666            666     666         666   \n",
       "Vincent                  659        659            659     659         659   \n",
       "\n",
       "                  Popularity_Score  Region  Art_Genre  Platform  Description  \\\n",
       "Artist_Name                                                                    \n",
       "AIArtist123                    657     657        657       657          657   \n",
       "AbstractoBot                   665     665        665       665          665   \n",
       "ArtBreeder                     675     675        675       675          675   \n",
       "DALL-E                         691     691        691       691          691   \n",
       "DaVinciNet                     681     681        681       681          681   \n",
       "DeepArt                        678     678        678       678          678   \n",
       "DeepDream                      649     649        649       649          649   \n",
       "GANPaint                       668     668        668       668          668   \n",
       "GenerativeGenius               619     619        619       619          619   \n",
       "MidJourney                     694     694        694       694          694   \n",
       "MonaBot                        656     656        656       656          656   \n",
       "NeoSurrealist                  678     678        678       678          678   \n",
       "PicassoAI                      664     664        664       664          664   \n",
       "RenoirBot                      666     666        666       666          666   \n",
       "Vincent                        659     659        659       659          659   \n",
       "\n",
       "                  Image_URL  \n",
       "Artist_Name                  \n",
       "AIArtist123             657  \n",
       "AbstractoBot            665  \n",
       "ArtBreeder              675  \n",
       "DALL-E                  691  \n",
       "DaVinciNet              681  \n",
       "DeepArt                 678  \n",
       "DeepDream               649  \n",
       "GANPaint                668  \n",
       "GenerativeGenius        619  \n",
       "MidJourney              694  \n",
       "MonaBot                 656  \n",
       "NeoSurrealist           678  \n",
       "PicassoAI               664  \n",
       "RenoirBot               666  \n",
       "Vincent                 659  "
      ]
     },
     "execution_count": 19,
     "metadata": {},
     "output_type": "execute_result"
    }
   ],
   "source": [
    "# code here.\n",
    "data=df.groupby('Artist_Name').count()\n",
    "data"
   ]
  },
  {
   "cell_type": "markdown",
   "id": "6a20865f-047f-4cf1-af77-5ca17b4a0eda",
   "metadata": {},
   "source": [
    "### 14.Filter the dataset to show only artworks created in \"2024\" using \"Oil Paint\"."
   ]
  },
  {
   "cell_type": "code",
   "execution_count": 20,
   "id": "2c1c77ab",
   "metadata": {},
   "outputs": [
    {
     "data": {
      "text/plain": [
       "Index(['Artwork_ID', 'Artist_Name', 'Art_Style', 'Creation_Date', 'Medium',\n",
       "       'Tools_Used', 'Popularity_Score', 'Region', 'Art_Genre', 'Platform',\n",
       "       'Description', 'Image_URL'],\n",
       "      dtype='object')"
      ]
     },
     "execution_count": 20,
     "metadata": {},
     "output_type": "execute_result"
    }
   ],
   "source": [
    "df.columns"
   ]
  },
  {
   "cell_type": "code",
   "execution_count": 36,
   "id": "79f94400-0425-4d20-8ee6-e06cba505ede",
   "metadata": {},
   "outputs": [
    {
     "data": {
      "text/plain": [
       "Artwork_ID          0\n",
       "Artist_Name         0\n",
       "Art_Style           0\n",
       "Creation_Date       0\n",
       "Medium              0\n",
       "Tools_Used          0\n",
       "Popularity_Score    0\n",
       "Region              0\n",
       "Art_Genre           0\n",
       "Platform            0\n",
       "Description         0\n",
       "Image_URL           0\n",
       "dtype: int64"
      ]
     },
     "execution_count": 36,
     "metadata": {},
     "output_type": "execute_result"
    }
   ],
   "source": [
    "# code here.\n",
    "df[(df['Creation_Date'] == 2024) & (df['Medium'] == 'Oil Paint')].count()"
   ]
  },
  {
   "cell_type": "markdown",
   "id": "211a7102-cf22-4736-b038-c0813f39021f",
   "metadata": {},
   "source": [
    "### 15.Display all artworks that are either \"Futurism\" or \"Impressionism\" and have a \"Popularity_Score\" below 2000."
   ]
  },
  {
   "cell_type": "code",
   "execution_count": 22,
   "id": "f7a35ff2-3959-4cf4-90f3-408e46ec37ae",
   "metadata": {},
   "outputs": [
    {
     "data": {
      "text/html": [
       "<div>\n",
       "<style scoped>\n",
       "    .dataframe tbody tr th:only-of-type {\n",
       "        vertical-align: middle;\n",
       "    }\n",
       "\n",
       "    .dataframe tbody tr th {\n",
       "        vertical-align: top;\n",
       "    }\n",
       "\n",
       "    .dataframe thead th {\n",
       "        text-align: right;\n",
       "    }\n",
       "</style>\n",
       "<table border=\"1\" class=\"dataframe\">\n",
       "  <thead>\n",
       "    <tr style=\"text-align: right;\">\n",
       "      <th></th>\n",
       "      <th>Artwork_ID</th>\n",
       "      <th>Artist_Name</th>\n",
       "      <th>Art_Style</th>\n",
       "      <th>Creation_Date</th>\n",
       "      <th>Medium</th>\n",
       "      <th>Tools_Used</th>\n",
       "      <th>Popularity_Score</th>\n",
       "      <th>Region</th>\n",
       "      <th>Art_Genre</th>\n",
       "      <th>Platform</th>\n",
       "      <th>Description</th>\n",
       "      <th>Image_URL</th>\n",
       "    </tr>\n",
       "  </thead>\n",
       "  <tbody>\n",
       "    <tr>\n",
       "      <th>9</th>\n",
       "      <td>ART-00010</td>\n",
       "      <td>DaVinciNet</td>\n",
       "      <td>Impressionism</td>\n",
       "      <td>2023-09-13</td>\n",
       "      <td>Watercolor</td>\n",
       "      <td>DALL-E</td>\n",
       "      <td>1188.63</td>\n",
       "      <td>North America</td>\n",
       "      <td>Abstract</td>\n",
       "      <td>Twitter</td>\n",
       "      <td>A mesmerizing piece of art that blends traditi...</td>\n",
       "      <td>https://example.com/artwork/00010.jpg</td>\n",
       "    </tr>\n",
       "    <tr>\n",
       "      <th>29</th>\n",
       "      <td>ART-00030</td>\n",
       "      <td>GenerativeGenius</td>\n",
       "      <td>Futurism</td>\n",
       "      <td>2023-04-20</td>\n",
       "      <td>Acrylic Paint</td>\n",
       "      <td>ArtBreeder</td>\n",
       "      <td>873.77</td>\n",
       "      <td>Asia</td>\n",
       "      <td>Conceptual</td>\n",
       "      <td>Pinterest</td>\n",
       "      <td>A mesmerizing piece of art that blends traditi...</td>\n",
       "      <td>https://example.com/artwork/00030.jpg</td>\n",
       "    </tr>\n",
       "    <tr>\n",
       "      <th>36</th>\n",
       "      <td>ART-00037</td>\n",
       "      <td>MidJourney</td>\n",
       "      <td>Impressionism</td>\n",
       "      <td>2023-10-22</td>\n",
       "      <td>Collage</td>\n",
       "      <td>GANPaint</td>\n",
       "      <td>1833.19</td>\n",
       "      <td>Europe</td>\n",
       "      <td>Conceptual</td>\n",
       "      <td>Pinterest</td>\n",
       "      <td>A mesmerizing piece of art that blends traditi...</td>\n",
       "      <td>https://example.com/artwork/00037.jpg</td>\n",
       "    </tr>\n",
       "    <tr>\n",
       "      <th>44</th>\n",
       "      <td>ART-00045</td>\n",
       "      <td>RenoirBot</td>\n",
       "      <td>Futurism</td>\n",
       "      <td>2023-10-07</td>\n",
       "      <td>Watercolor</td>\n",
       "      <td>DALL-E</td>\n",
       "      <td>1948.95</td>\n",
       "      <td>Oceania</td>\n",
       "      <td>Abstract</td>\n",
       "      <td>Reddit</td>\n",
       "      <td>A mesmerizing piece of art that blends traditi...</td>\n",
       "      <td>https://example.com/artwork/00045.jpg</td>\n",
       "    </tr>\n",
       "    <tr>\n",
       "      <th>49</th>\n",
       "      <td>ART-00050</td>\n",
       "      <td>RenoirBot</td>\n",
       "      <td>Futurism</td>\n",
       "      <td>2023-05-24</td>\n",
       "      <td>Collage</td>\n",
       "      <td>DALL-E</td>\n",
       "      <td>281.43</td>\n",
       "      <td>North America</td>\n",
       "      <td>Portrait</td>\n",
       "      <td>ArtStation</td>\n",
       "      <td>A mesmerizing piece of art that blends traditi...</td>\n",
       "      <td>https://example.com/artwork/00050.jpg</td>\n",
       "    </tr>\n",
       "  </tbody>\n",
       "</table>\n",
       "</div>"
      ],
      "text/plain": [
       "   Artwork_ID       Artist_Name      Art_Style Creation_Date         Medium  \\\n",
       "9   ART-00010        DaVinciNet  Impressionism    2023-09-13     Watercolor   \n",
       "29  ART-00030  GenerativeGenius       Futurism    2023-04-20  Acrylic Paint   \n",
       "36  ART-00037        MidJourney  Impressionism    2023-10-22        Collage   \n",
       "44  ART-00045         RenoirBot       Futurism    2023-10-07     Watercolor   \n",
       "49  ART-00050         RenoirBot       Futurism    2023-05-24        Collage   \n",
       "\n",
       "    Tools_Used  Popularity_Score         Region   Art_Genre    Platform  \\\n",
       "9       DALL-E           1188.63  North America    Abstract     Twitter   \n",
       "29  ArtBreeder            873.77           Asia  Conceptual   Pinterest   \n",
       "36    GANPaint           1833.19         Europe  Conceptual   Pinterest   \n",
       "44      DALL-E           1948.95        Oceania    Abstract      Reddit   \n",
       "49      DALL-E            281.43  North America    Portrait  ArtStation   \n",
       "\n",
       "                                          Description  \\\n",
       "9   A mesmerizing piece of art that blends traditi...   \n",
       "29  A mesmerizing piece of art that blends traditi...   \n",
       "36  A mesmerizing piece of art that blends traditi...   \n",
       "44  A mesmerizing piece of art that blends traditi...   \n",
       "49  A mesmerizing piece of art that blends traditi...   \n",
       "\n",
       "                                Image_URL  \n",
       "9   https://example.com/artwork/00010.jpg  \n",
       "29  https://example.com/artwork/00030.jpg  \n",
       "36  https://example.com/artwork/00037.jpg  \n",
       "44  https://example.com/artwork/00045.jpg  \n",
       "49  https://example.com/artwork/00050.jpg  "
      ]
     },
     "execution_count": 22,
     "metadata": {},
     "output_type": "execute_result"
    }
   ],
   "source": [
    "# code here.\n",
    "data = df[(df['Art_Style'].isin(['Futurism', 'Impressionism'])) & (df['Popularity_Score'] < 2000)]\n",
    "data.head()"
   ]
  },
  {
   "cell_type": "markdown",
   "id": "4e34e884-eca3-4c87-a0bc-f0ae592b2b6e",
   "metadata": {},
   "source": [
    "### 16.What is the most popular artwork (highest Popularity_Score)?"
   ]
  },
  {
   "cell_type": "code",
   "execution_count": 23,
   "id": "e9534c74-3a5a-4038-8867-dfca47216d17",
   "metadata": {},
   "outputs": [
    {
     "data": {
      "text/plain": [
       "Artwork_ID                                                  ART-09120\n",
       "Artist_Name                                             NeoSurrealist\n",
       "Art_Style                                                     Realism\n",
       "Creation_Date                                              2023-10-23\n",
       "Medium                                                            Ink\n",
       "Tools_Used                                                 ArtBreeder\n",
       "Popularity_Score                                              4999.62\n",
       "Region                                                  South America\n",
       "Art_Genre                                                     Fantasy\n",
       "Platform                                                      Behance\n",
       "Description         A mesmerizing piece of art that blends traditi...\n",
       "Image_URL                       https://example.com/artwork/09120.jpg\n",
       "Name: 9119, dtype: object"
      ]
     },
     "execution_count": 23,
     "metadata": {},
     "output_type": "execute_result"
    }
   ],
   "source": [
    "# code here.\n",
    "data = df['Popularity_Score'].idxmax()\n",
    "data1 = df.loc[data]\n",
    "data1\n"
   ]
  },
  {
   "cell_type": "markdown",
   "id": "a2ddb116-3cf6-49af-8e31-bb46854f7dae",
   "metadata": {},
   "source": [
    "### 17.What is the least popular artwork (lowest Popularity_Score)?"
   ]
  },
  {
   "cell_type": "code",
   "execution_count": 24,
   "id": "1d936795-5a20-40e7-85b2-73a92a737426",
   "metadata": {},
   "outputs": [
    {
     "data": {
      "text/plain": [
       "Artwork_ID                                                  ART-00910\n",
       "Artist_Name                                                 DeepDream\n",
       "Art_Style                                                     Realism\n",
       "Creation_Date                                              2023-11-01\n",
       "Medium                                                            Ink\n",
       "Tools_Used                                                  DeepDream\n",
       "Popularity_Score                                                50.85\n",
       "Region                                                  South America\n",
       "Art_Genre                                                    Abstract\n",
       "Platform                                                       Tumblr\n",
       "Description         A mesmerizing piece of art that blends traditi...\n",
       "Image_URL                       https://example.com/artwork/00910.jpg\n",
       "Name: 909, dtype: object"
      ]
     },
     "execution_count": 24,
     "metadata": {},
     "output_type": "execute_result"
    }
   ],
   "source": [
    "# code here.\n",
    "data = df['Popularity_Score'].idxmin()\n",
    "data1 = df.loc[data]\n",
    "data1"
   ]
  },
  {
   "cell_type": "markdown",
   "id": "bb307b07-55a1-4153-88c2-f791517e6cf5",
   "metadata": {},
   "source": [
    "### 18.What is the most common art genre in Europe?"
   ]
  },
  {
   "cell_type": "code",
   "execution_count": null,
   "id": "8731f216",
   "metadata": {},
   "outputs": [],
   "source": []
  },
  {
   "cell_type": "code",
   "execution_count": 25,
   "id": "34b5dd37-8d00-4af0-974e-1afdebbd2eac",
   "metadata": {},
   "outputs": [
    {
     "data": {
      "text/plain": [
       "'Portrait'"
      ]
     },
     "execution_count": 25,
     "metadata": {},
     "output_type": "execute_result"
    }
   ],
   "source": [
    "# code here.\n",
    "data = df[df['Region'] == 'Europe']\n",
    "most = data['Art_Genre'].value_counts().idxmax()\n",
    "most\n"
   ]
  },
  {
   "cell_type": "markdown",
   "id": "1a3d6cc4-2d72-480d-a032-47a7814e140b",
   "metadata": {},
   "source": [
    "### 19.Export the dataset to a CSV file named \"artwork_data.csv\". "
   ]
  },
  {
   "cell_type": "code",
   "execution_count": 26,
   "id": "9d50f543-3552-43de-b122-a61c0657c393",
   "metadata": {},
   "outputs": [],
   "source": [
    "# code here.\n",
    "df.to_csv('artwork_data.csv', index=False)"
   ]
  },
  {
   "cell_type": "code",
   "execution_count": 27,
   "id": "6cd3a8dc",
   "metadata": {},
   "outputs": [
    {
     "data": {
      "text/html": [
       "<div>\n",
       "<style scoped>\n",
       "    .dataframe tbody tr th:only-of-type {\n",
       "        vertical-align: middle;\n",
       "    }\n",
       "\n",
       "    .dataframe tbody tr th {\n",
       "        vertical-align: top;\n",
       "    }\n",
       "\n",
       "    .dataframe thead th {\n",
       "        text-align: right;\n",
       "    }\n",
       "</style>\n",
       "<table border=\"1\" class=\"dataframe\">\n",
       "  <thead>\n",
       "    <tr style=\"text-align: right;\">\n",
       "      <th></th>\n",
       "      <th>Artwork_ID</th>\n",
       "      <th>Artist_Name</th>\n",
       "      <th>Art_Style</th>\n",
       "      <th>Creation_Date</th>\n",
       "      <th>Medium</th>\n",
       "      <th>Tools_Used</th>\n",
       "      <th>Popularity_Score</th>\n",
       "      <th>Region</th>\n",
       "      <th>Art_Genre</th>\n",
       "      <th>Platform</th>\n",
       "      <th>Description</th>\n",
       "      <th>Image_URL</th>\n",
       "    </tr>\n",
       "  </thead>\n",
       "  <tbody>\n",
       "    <tr>\n",
       "      <th>0</th>\n",
       "      <td>ART-00001</td>\n",
       "      <td>DALL-E</td>\n",
       "      <td>Conceptual</td>\n",
       "      <td>2023-03-11</td>\n",
       "      <td>Collage</td>\n",
       "      <td>GANPaint</td>\n",
       "      <td>1604.25</td>\n",
       "      <td>South America</td>\n",
       "      <td>Urban</td>\n",
       "      <td>Instagram</td>\n",
       "      <td>A mesmerizing piece of art that blends traditi...</td>\n",
       "      <td>https://example.com/artwork/00001.jpg</td>\n",
       "    </tr>\n",
       "    <tr>\n",
       "      <th>1</th>\n",
       "      <td>ART-00002</td>\n",
       "      <td>AbstractoBot</td>\n",
       "      <td>Futurism</td>\n",
       "      <td>2022-11-27</td>\n",
       "      <td>Oil Paint</td>\n",
       "      <td>MidJourney</td>\n",
       "      <td>4162.12</td>\n",
       "      <td>North America</td>\n",
       "      <td>Abstract</td>\n",
       "      <td>Dribbble</td>\n",
       "      <td>A mesmerizing piece of art that blends traditi...</td>\n",
       "      <td>https://example.com/artwork/00002.jpg</td>\n",
       "    </tr>\n",
       "    <tr>\n",
       "      <th>2</th>\n",
       "      <td>ART-00003</td>\n",
       "      <td>Vincent</td>\n",
       "      <td>Futurism</td>\n",
       "      <td>2024-03-13</td>\n",
       "      <td>Charcoal</td>\n",
       "      <td>GANPaint</td>\n",
       "      <td>2989.38</td>\n",
       "      <td>Europe</td>\n",
       "      <td>Mythology</td>\n",
       "      <td>Reddit</td>\n",
       "      <td>A mesmerizing piece of art that blends traditi...</td>\n",
       "      <td>https://example.com/artwork/00003.jpg</td>\n",
       "    </tr>\n",
       "    <tr>\n",
       "      <th>3</th>\n",
       "      <td>ART-00004</td>\n",
       "      <td>ArtBreeder</td>\n",
       "      <td>Impressionism</td>\n",
       "      <td>2022-09-12</td>\n",
       "      <td>Pencil Sketch</td>\n",
       "      <td>ArtBreeder</td>\n",
       "      <td>2985.97</td>\n",
       "      <td>Europe</td>\n",
       "      <td>Still Life</td>\n",
       "      <td>Tumblr</td>\n",
       "      <td>A mesmerizing piece of art that blends traditi...</td>\n",
       "      <td>https://example.com/artwork/00004.jpg</td>\n",
       "    </tr>\n",
       "    <tr>\n",
       "      <th>4</th>\n",
       "      <td>ART-00005</td>\n",
       "      <td>DALL-E</td>\n",
       "      <td>Surrealism</td>\n",
       "      <td>2022-12-05</td>\n",
       "      <td>Collage</td>\n",
       "      <td>DeepDream</td>\n",
       "      <td>2035.18</td>\n",
       "      <td>Asia</td>\n",
       "      <td>Conceptual</td>\n",
       "      <td>DeviantArt</td>\n",
       "      <td>A mesmerizing piece of art that blends traditi...</td>\n",
       "      <td>https://example.com/artwork/00005.jpg</td>\n",
       "    </tr>\n",
       "  </tbody>\n",
       "</table>\n",
       "</div>"
      ],
      "text/plain": [
       "  Artwork_ID   Artist_Name      Art_Style Creation_Date         Medium  \\\n",
       "0  ART-00001        DALL-E     Conceptual    2023-03-11        Collage   \n",
       "1  ART-00002  AbstractoBot       Futurism    2022-11-27      Oil Paint   \n",
       "2  ART-00003       Vincent       Futurism    2024-03-13       Charcoal   \n",
       "3  ART-00004    ArtBreeder  Impressionism    2022-09-12  Pencil Sketch   \n",
       "4  ART-00005        DALL-E     Surrealism    2022-12-05        Collage   \n",
       "\n",
       "   Tools_Used  Popularity_Score         Region   Art_Genre    Platform  \\\n",
       "0    GANPaint           1604.25  South America       Urban   Instagram   \n",
       "1  MidJourney           4162.12  North America    Abstract    Dribbble   \n",
       "2    GANPaint           2989.38         Europe   Mythology      Reddit   \n",
       "3  ArtBreeder           2985.97         Europe  Still Life      Tumblr   \n",
       "4   DeepDream           2035.18           Asia  Conceptual  DeviantArt   \n",
       "\n",
       "                                         Description  \\\n",
       "0  A mesmerizing piece of art that blends traditi...   \n",
       "1  A mesmerizing piece of art that blends traditi...   \n",
       "2  A mesmerizing piece of art that blends traditi...   \n",
       "3  A mesmerizing piece of art that blends traditi...   \n",
       "4  A mesmerizing piece of art that blends traditi...   \n",
       "\n",
       "                               Image_URL  \n",
       "0  https://example.com/artwork/00001.jpg  \n",
       "1  https://example.com/artwork/00002.jpg  \n",
       "2  https://example.com/artwork/00003.jpg  \n",
       "3  https://example.com/artwork/00004.jpg  \n",
       "4  https://example.com/artwork/00005.jpg  "
      ]
     },
     "execution_count": 27,
     "metadata": {},
     "output_type": "execute_result"
    }
   ],
   "source": [
    "df=pd.read_csv(r\"C:\\Users\\hp\\Downloads\\artwork_data.csv\")\n",
    "df.head()"
   ]
  },
  {
   "cell_type": "markdown",
   "id": "a76632a3-1a75-41f4-aa52-59154da3f6d7",
   "metadata": {},
   "source": [
    "### 20.Group the data by Artist_Name and calculate the total number of artworks created by each artist."
   ]
  },
  {
   "cell_type": "code",
   "execution_count": 28,
   "id": "e45c70be-a394-4e57-ba89-4de76c6f60a9",
   "metadata": {},
   "outputs": [
    {
     "data": {
      "text/plain": [
       "Artist_Name\n",
       "AIArtist123         657\n",
       "AbstractoBot        665\n",
       "ArtBreeder          675\n",
       "DALL-E              691\n",
       "DaVinciNet          681\n",
       "DeepArt             678\n",
       "DeepDream           649\n",
       "GANPaint            668\n",
       "GenerativeGenius    619\n",
       "MidJourney          694\n",
       "MonaBot             656\n",
       "NeoSurrealist       678\n",
       "PicassoAI           664\n",
       "RenoirBot           666\n",
       "Vincent             659\n",
       "dtype: int64"
      ]
     },
     "execution_count": 28,
     "metadata": {},
     "output_type": "execute_result"
    }
   ],
   "source": [
    "# code here.\n",
    "df.groupby(\"Artist_Name\").size()"
   ]
  },
  {
   "cell_type": "code",
   "execution_count": null,
   "id": "8e1e8f40",
   "metadata": {},
   "outputs": [],
   "source": []
  },
  {
   "cell_type": "code",
   "execution_count": null,
   "id": "6e54e435",
   "metadata": {},
   "outputs": [],
   "source": []
  }
 ],
 "metadata": {
  "kernelspec": {
   "display_name": "Python 3 (ipykernel)",
   "language": "python",
   "name": "python3"
  },
  "language_info": {
   "codemirror_mode": {
    "name": "ipython",
    "version": 3
   },
   "file_extension": ".py",
   "mimetype": "text/x-python",
   "name": "python",
   "nbconvert_exporter": "python",
   "pygments_lexer": "ipython3",
   "version": "3.11.7"
  }
 },
 "nbformat": 4,
 "nbformat_minor": 5
}
