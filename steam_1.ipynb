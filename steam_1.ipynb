{
 "cells": [
  {
   "cell_type": "code",
   "execution_count": 1,
   "id": "a257e37c-3a27-4de1-98da-5a34152b0776",
   "metadata": {},
   "outputs": [],
   "source": [
    "import pandas as pd\n",
    "import numpy as np\n",
    "import matplotlib.pyplot as plt\n",
    "import seaborn as sns\n",
    "df=pd.read_csv(r\"C:\\Users\\hp\\Downloads\\steam_dataset.csv\")"
   ]
  },
  {
   "cell_type": "code",
   "execution_count": 2,
   "id": "694de77b",
   "metadata": {},
   "outputs": [
    {
     "data": {
      "text/plain": [
       "Unnamed: 0           0\n",
       "appid                0\n",
       "name                 0\n",
       "release_date         0\n",
       "english              0\n",
       "developer            1\n",
       "publisher           14\n",
       "platforms            0\n",
       "required_age         0\n",
       "categories           0\n",
       "genres               0\n",
       "steamspy_tags        0\n",
       "achievements         0\n",
       "positive_ratings     0\n",
       "negative_ratings     0\n",
       "average_playtime     0\n",
       "median_playtime      0\n",
       "owners               0\n",
       "price                0\n",
       "revenue              0\n",
       "dtype: int64"
      ]
     },
     "execution_count": 2,
     "metadata": {},
     "output_type": "execute_result"
    }
   ],
   "source": [
    "df.isna().sum()"
   ]
  },
  {
   "cell_type": "code",
   "execution_count": 44,
   "id": "3ded4567",
   "metadata": {},
   "outputs": [
    {
     "name": "stdout",
     "output_type": "stream",
     "text": [
      "Index(['appid', 'name', 'release_date', 'english', 'developer', 'publisher',\n",
      "       'platforms', 'required_age', 'categories', 'genres', 'steamspy_tags',\n",
      "       'achievements', 'positive_ratings', 'negative_ratings',\n",
      "       'average_playtime', 'median_playtime', 'owners', 'price', 'revenue'],\n",
      "      dtype='object')\n"
     ]
    }
   ],
   "source": [
    "\n",
    "df = df.drop(columns=['Unnamed: 0'])\n",
    "print(df.columns)"
   ]
  },
  {
   "cell_type": "code",
   "execution_count": null,
   "id": "7be54d0e",
   "metadata": {},
   "outputs": [],
   "source": []
  },
  {
   "cell_type": "code",
   "execution_count": 46,
   "id": "f5584371",
   "metadata": {},
   "outputs": [
    {
     "name": "stdout",
     "output_type": "stream",
     "text": [
      "<class 'pandas.core.frame.DataFrame'>\n",
      "RangeIndex: 27075 entries, 0 to 27074\n",
      "Data columns (total 19 columns):\n",
      " #   Column            Non-Null Count  Dtype  \n",
      "---  ------            --------------  -----  \n",
      " 0   appid             27075 non-null  int64  \n",
      " 1   name              27075 non-null  object \n",
      " 2   release_date      27075 non-null  object \n",
      " 3   english           27075 non-null  int64  \n",
      " 4   developer         27075 non-null  object \n",
      " 5   publisher         27075 non-null  object \n",
      " 6   platforms         27075 non-null  object \n",
      " 7   required_age      27075 non-null  int64  \n",
      " 8   categories        27075 non-null  object \n",
      " 9   genres            27075 non-null  object \n",
      " 10  steamspy_tags     27075 non-null  object \n",
      " 11  achievements      27075 non-null  int64  \n",
      " 12  positive_ratings  27075 non-null  int64  \n",
      " 13  negative_ratings  27075 non-null  int64  \n",
      " 14  average_playtime  27075 non-null  int64  \n",
      " 15  median_playtime   27075 non-null  int64  \n",
      " 16  owners            27075 non-null  int64  \n",
      " 17  price             27075 non-null  float64\n",
      " 18  revenue           27075 non-null  float64\n",
      "dtypes: float64(2), int64(9), object(8)\n",
      "memory usage: 3.9+ MB\n"
     ]
    }
   ],
   "source": [
    "df.info()"
   ]
  },
  {
   "cell_type": "code",
   "execution_count": null,
   "id": "dadc6f64",
   "metadata": {},
   "outputs": [],
   "source": []
  },
  {
   "cell_type": "code",
   "execution_count": 47,
   "id": "fb36dbca",
   "metadata": {},
   "outputs": [
    {
     "data": {
      "text/plain": [
       "0"
      ]
     },
     "execution_count": 47,
     "metadata": {},
     "output_type": "execute_result"
    }
   ],
   "source": [
    "df[\"publisher\"].isna().sum()"
   ]
  },
  {
   "cell_type": "code",
   "execution_count": 48,
   "id": "b51267de",
   "metadata": {},
   "outputs": [
    {
     "data": {
      "text/plain": [
       "publisher\n",
       "Big Fish Games           226\n",
       "Strategy First           136\n",
       "Ubisoft                  111\n",
       "THQ Nordic                98\n",
       "Square Enix               97\n",
       "                        ... \n",
       "Tonka3D                    1\n",
       "guyhezi                    1\n",
       "Robert Gammon              1\n",
       "Phun Peeticharoenthum      1\n",
       "SHEN JIAWEI                1\n",
       "Name: count, Length: 14353, dtype: int64"
      ]
     },
     "execution_count": 48,
     "metadata": {},
     "output_type": "execute_result"
    }
   ],
   "source": [
    "df[\"publisher\"]=np.where(df[\"publisher\"].isna(),df[\"publisher\"].mode(),df[\"publisher\"])\n",
    "df[\"publisher\"].value_counts()"
   ]
  },
  {
   "cell_type": "code",
   "execution_count": null,
   "id": "3ff25beb",
   "metadata": {},
   "outputs": [],
   "source": []
  },
  {
   "cell_type": "code",
   "execution_count": 49,
   "id": "f635f806",
   "metadata": {},
   "outputs": [
    {
     "data": {
      "text/plain": [
       "0"
      ]
     },
     "execution_count": 49,
     "metadata": {},
     "output_type": "execute_result"
    }
   ],
   "source": [
    "df[\"developer\"].isna().sum()"
   ]
  },
  {
   "cell_type": "code",
   "execution_count": 50,
   "id": "a659ac06",
   "metadata": {},
   "outputs": [
    {
     "data": {
      "text/plain": [
       "developer\n",
       "Choice of Games               95\n",
       "KOEI TECMO GAMES CO., LTD.    72\n",
       "Ripknot Systems               62\n",
       "Laush Dmitriy Sergeevich      51\n",
       "Nikita \"Ghost_RUS\"            50\n",
       "                              ..\n",
       "CRAPPY ZOMBIE GAME STUDIO      1\n",
       "Ramon Mujica                   1\n",
       "Oomst Games                    1\n",
       "Joe Censored Games             1\n",
       "Adept Studios GD               1\n",
       "Name: count, Length: 17112, dtype: int64"
      ]
     },
     "execution_count": 50,
     "metadata": {},
     "output_type": "execute_result"
    }
   ],
   "source": [
    "df[\"developer\"]=np.where(df[\"developer\"].isna(),df[\"developer\"].mode(),df[\"developer\"])\n",
    "df[\"developer\"].value_counts()"
   ]
  },
  {
   "cell_type": "code",
   "execution_count": 51,
   "id": "266fce06",
   "metadata": {},
   "outputs": [
    {
     "data": {
      "text/plain": [
       "appid               0\n",
       "name                0\n",
       "release_date        0\n",
       "english             0\n",
       "developer           0\n",
       "publisher           0\n",
       "platforms           0\n",
       "required_age        0\n",
       "categories          0\n",
       "genres              0\n",
       "steamspy_tags       0\n",
       "achievements        0\n",
       "positive_ratings    0\n",
       "negative_ratings    0\n",
       "average_playtime    0\n",
       "median_playtime     0\n",
       "owners              0\n",
       "price               0\n",
       "revenue             0\n",
       "dtype: int64"
      ]
     },
     "execution_count": 51,
     "metadata": {},
     "output_type": "execute_result"
    }
   ],
   "source": [
    "df.isna().sum()"
   ]
  },
  {
   "cell_type": "code",
   "execution_count": null,
   "id": "608e2127",
   "metadata": {},
   "outputs": [],
   "source": []
  },
  {
   "cell_type": "code",
   "execution_count": 52,
   "id": "26e3e491",
   "metadata": {},
   "outputs": [
    {
     "data": {
      "text/html": [
       "<div>\n",
       "<style scoped>\n",
       "    .dataframe tbody tr th:only-of-type {\n",
       "        vertical-align: middle;\n",
       "    }\n",
       "\n",
       "    .dataframe tbody tr th {\n",
       "        vertical-align: top;\n",
       "    }\n",
       "\n",
       "    .dataframe thead th {\n",
       "        text-align: right;\n",
       "    }\n",
       "</style>\n",
       "<table border=\"1\" class=\"dataframe\">\n",
       "  <thead>\n",
       "    <tr style=\"text-align: right;\">\n",
       "      <th></th>\n",
       "      <th>appid</th>\n",
       "      <th>name</th>\n",
       "      <th>release_date</th>\n",
       "      <th>english</th>\n",
       "      <th>developer</th>\n",
       "      <th>publisher</th>\n",
       "      <th>platforms</th>\n",
       "      <th>required_age</th>\n",
       "      <th>categories</th>\n",
       "      <th>genres</th>\n",
       "      <th>steamspy_tags</th>\n",
       "      <th>achievements</th>\n",
       "      <th>positive_ratings</th>\n",
       "      <th>negative_ratings</th>\n",
       "      <th>average_playtime</th>\n",
       "      <th>median_playtime</th>\n",
       "      <th>owners</th>\n",
       "      <th>price</th>\n",
       "      <th>revenue</th>\n",
       "    </tr>\n",
       "  </thead>\n",
       "  <tbody>\n",
       "    <tr>\n",
       "      <th>0</th>\n",
       "      <td>10</td>\n",
       "      <td>Counter-Strike</td>\n",
       "      <td>2000-11-01</td>\n",
       "      <td>1</td>\n",
       "      <td>Valve</td>\n",
       "      <td>Valve</td>\n",
       "      <td>windows;mac;linux</td>\n",
       "      <td>0</td>\n",
       "      <td>Multi-player;Online Multi-Player;Local Multi-P...</td>\n",
       "      <td>Action</td>\n",
       "      <td>Action;FPS;Multiplayer</td>\n",
       "      <td>0</td>\n",
       "      <td>124534</td>\n",
       "      <td>3339</td>\n",
       "      <td>17612</td>\n",
       "      <td>317</td>\n",
       "      <td>20000000</td>\n",
       "      <td>7.19</td>\n",
       "      <td>143800000.0</td>\n",
       "    </tr>\n",
       "    <tr>\n",
       "      <th>1</th>\n",
       "      <td>20</td>\n",
       "      <td>Team Fortress Classic</td>\n",
       "      <td>1999-04-01</td>\n",
       "      <td>1</td>\n",
       "      <td>Valve</td>\n",
       "      <td>Valve</td>\n",
       "      <td>windows;mac;linux</td>\n",
       "      <td>0</td>\n",
       "      <td>Multi-player;Online Multi-Player;Local Multi-P...</td>\n",
       "      <td>Action</td>\n",
       "      <td>Action;FPS;Multiplayer</td>\n",
       "      <td>0</td>\n",
       "      <td>3318</td>\n",
       "      <td>633</td>\n",
       "      <td>277</td>\n",
       "      <td>62</td>\n",
       "      <td>10000000</td>\n",
       "      <td>3.99</td>\n",
       "      <td>39900000.0</td>\n",
       "    </tr>\n",
       "    <tr>\n",
       "      <th>2</th>\n",
       "      <td>30</td>\n",
       "      <td>Day of Defeat</td>\n",
       "      <td>2003-05-01</td>\n",
       "      <td>1</td>\n",
       "      <td>Valve</td>\n",
       "      <td>Valve</td>\n",
       "      <td>windows;mac;linux</td>\n",
       "      <td>0</td>\n",
       "      <td>Multi-player;Valve Anti-Cheat enabled</td>\n",
       "      <td>Action</td>\n",
       "      <td>FPS;World War II;Multiplayer</td>\n",
       "      <td>0</td>\n",
       "      <td>3416</td>\n",
       "      <td>398</td>\n",
       "      <td>187</td>\n",
       "      <td>34</td>\n",
       "      <td>10000000</td>\n",
       "      <td>3.99</td>\n",
       "      <td>39900000.0</td>\n",
       "    </tr>\n",
       "    <tr>\n",
       "      <th>3</th>\n",
       "      <td>40</td>\n",
       "      <td>Deathmatch Classic</td>\n",
       "      <td>2001-06-01</td>\n",
       "      <td>1</td>\n",
       "      <td>Valve</td>\n",
       "      <td>Valve</td>\n",
       "      <td>windows;mac;linux</td>\n",
       "      <td>0</td>\n",
       "      <td>Multi-player;Online Multi-Player;Local Multi-P...</td>\n",
       "      <td>Action</td>\n",
       "      <td>Action;FPS;Multiplayer</td>\n",
       "      <td>0</td>\n",
       "      <td>1273</td>\n",
       "      <td>267</td>\n",
       "      <td>258</td>\n",
       "      <td>184</td>\n",
       "      <td>10000000</td>\n",
       "      <td>3.99</td>\n",
       "      <td>39900000.0</td>\n",
       "    </tr>\n",
       "    <tr>\n",
       "      <th>4</th>\n",
       "      <td>50</td>\n",
       "      <td>Half-Life: Opposing Force</td>\n",
       "      <td>1999-11-01</td>\n",
       "      <td>1</td>\n",
       "      <td>Gearbox Software</td>\n",
       "      <td>Valve</td>\n",
       "      <td>windows;mac;linux</td>\n",
       "      <td>0</td>\n",
       "      <td>Single-player;Multi-player;Valve Anti-Cheat en...</td>\n",
       "      <td>Action</td>\n",
       "      <td>FPS;Action;Sci-fi</td>\n",
       "      <td>0</td>\n",
       "      <td>5250</td>\n",
       "      <td>288</td>\n",
       "      <td>624</td>\n",
       "      <td>415</td>\n",
       "      <td>10000000</td>\n",
       "      <td>3.99</td>\n",
       "      <td>39900000.0</td>\n",
       "    </tr>\n",
       "  </tbody>\n",
       "</table>\n",
       "</div>"
      ],
      "text/plain": [
       "   appid                       name release_date  english         developer  \\\n",
       "0     10             Counter-Strike   2000-11-01        1             Valve   \n",
       "1     20      Team Fortress Classic   1999-04-01        1             Valve   \n",
       "2     30              Day of Defeat   2003-05-01        1             Valve   \n",
       "3     40         Deathmatch Classic   2001-06-01        1             Valve   \n",
       "4     50  Half-Life: Opposing Force   1999-11-01        1  Gearbox Software   \n",
       "\n",
       "  publisher          platforms  required_age  \\\n",
       "0     Valve  windows;mac;linux             0   \n",
       "1     Valve  windows;mac;linux             0   \n",
       "2     Valve  windows;mac;linux             0   \n",
       "3     Valve  windows;mac;linux             0   \n",
       "4     Valve  windows;mac;linux             0   \n",
       "\n",
       "                                          categories  genres  \\\n",
       "0  Multi-player;Online Multi-Player;Local Multi-P...  Action   \n",
       "1  Multi-player;Online Multi-Player;Local Multi-P...  Action   \n",
       "2              Multi-player;Valve Anti-Cheat enabled  Action   \n",
       "3  Multi-player;Online Multi-Player;Local Multi-P...  Action   \n",
       "4  Single-player;Multi-player;Valve Anti-Cheat en...  Action   \n",
       "\n",
       "                  steamspy_tags  achievements  positive_ratings  \\\n",
       "0        Action;FPS;Multiplayer             0            124534   \n",
       "1        Action;FPS;Multiplayer             0              3318   \n",
       "2  FPS;World War II;Multiplayer             0              3416   \n",
       "3        Action;FPS;Multiplayer             0              1273   \n",
       "4             FPS;Action;Sci-fi             0              5250   \n",
       "\n",
       "   negative_ratings  average_playtime  median_playtime    owners  price  \\\n",
       "0              3339             17612              317  20000000   7.19   \n",
       "1               633               277               62  10000000   3.99   \n",
       "2               398               187               34  10000000   3.99   \n",
       "3               267               258              184  10000000   3.99   \n",
       "4               288               624              415  10000000   3.99   \n",
       "\n",
       "       revenue  \n",
       "0  143800000.0  \n",
       "1   39900000.0  \n",
       "2   39900000.0  \n",
       "3   39900000.0  \n",
       "4   39900000.0  "
      ]
     },
     "execution_count": 52,
     "metadata": {},
     "output_type": "execute_result"
    }
   ],
   "source": [
    "df.head()"
   ]
  },
  {
   "cell_type": "code",
   "execution_count": null,
   "id": "29aec5d9",
   "metadata": {},
   "outputs": [],
   "source": []
  },
  {
   "cell_type": "code",
   "execution_count": 53,
   "id": "d38dcec5-75cb-48cd-93c0-4e578de6c0ea",
   "metadata": {},
   "outputs": [
    {
     "name": "stdout",
     "output_type": "stream",
     "text": [
      "['windows;mac;linux' 'windows;mac' 'windows' 'windows;linux' 'mac'\n",
      " 'mac;linux' 'linux']\n"
     ]
    }
   ],
   "source": [
    "# Q1 : what platforms are present in the data\n",
    "# expected answer : ['windows', 'mac', 'linux']\n",
    "platforms = df['platforms'].unique()\n",
    "print(platforms)\n"
   ]
  },
  {
   "cell_type": "code",
   "execution_count": 54,
   "id": "6455a807-9fc5-4251-85ed-65e1881414a3",
   "metadata": {},
   "outputs": [
    {
     "name": "stdout",
     "output_type": "stream",
     "text": [
      "['windows', 'mac', 'linux']\n"
     ]
    }
   ],
   "source": [
    "platforms = ['windows', 'mac', 'linux']\n",
    "list = []\n",
    "\n",
    "for i in platforms:\n",
    "    if df['platforms'].str.contains(i).any:\n",
    "        list.append(i)\n",
    "\n",
    "print(list)\n"
   ]
  },
  {
   "cell_type": "code",
   "execution_count": null,
   "id": "ff2198e1",
   "metadata": {},
   "outputs": [],
   "source": []
  },
  {
   "cell_type": "code",
   "execution_count": 55,
   "id": "e96e5718-80f2-4661-a4fa-4f62bf733c2c",
   "metadata": {},
   "outputs": [],
   "source": [
    "# Q2 CEO:  which platform has most no of games\n",
    "# Answer : windows has maximum no of titles "
   ]
  },
  {
   "cell_type": "code",
   "execution_count": 56,
   "id": "a8daaf86",
   "metadata": {},
   "outputs": [
    {
     "name": "stdout",
     "output_type": "stream",
     "text": [
      "linux       5235\n",
      "mac         8066\n",
      "windows    27070\n",
      "dtype: int64\n"
     ]
    }
   ],
   "source": [
    "df1= df['platforms'].str.get_dummies(sep=';').sum()\n",
    "print(df1)"
   ]
  },
  {
   "cell_type": "code",
   "execution_count": 57,
   "id": "07eab72f-6a98-4a81-bd2e-1aec3213ab0f",
   "metadata": {},
   "outputs": [
    {
     "name": "stdout",
     "output_type": "stream",
     "text": [
      "Captions available              721\n",
      "Co-op                          1721\n",
      "Commentary available            144\n",
      "Cross-Platform Multiplayer     1081\n",
      "Full controller support        5695\n",
      "In-App Purchases                690\n",
      "Includes Source SDK              35\n",
      "Includes level editor          1036\n",
      "Local Co-op                    1059\n",
      "Local Multi-Player             1615\n",
      "MMO                             421\n",
      "Mods                              2\n",
      "Mods (require HL2)                1\n",
      "Multi-player                   3974\n",
      "Online Co-op                   1071\n",
      "Online Multi-Player            2487\n",
      "Partial Controller Support     4234\n",
      "Shared/Split Screen            2152\n",
      "Single-player                 25678\n",
      "Stats                          1878\n",
      "Steam Achievements            14130\n",
      "Steam Cloud                    7219\n",
      "Steam Leaderboards             3439\n",
      "Steam Trading Cards            7918\n",
      "Steam Turn Notifications         63\n",
      "Steam Workshop                  897\n",
      "SteamVR Collectibles             40\n",
      "VR Support                      231\n",
      "Valve Anti-Cheat enabled         94\n",
      "dtype: int64\n"
     ]
    },
    {
     "data": {
      "text/plain": [
       "'Single-player'"
      ]
     },
     "execution_count": 57,
     "metadata": {},
     "output_type": "execute_result"
    }
   ],
   "source": [
    "# Q3 CEO:  which category has most no of games\n",
    "data = df['categories'].str.get_dummies(sep=';').sum()\n",
    "print(data)\n",
    "data1 = data.idxmax()\n",
    "data1"
   ]
  },
  {
   "cell_type": "code",
   "execution_count": 58,
   "id": "4a0fd4b9-751f-4c1a-b956-21966b103e13",
   "metadata": {},
   "outputs": [
    {
     "name": "stdout",
     "output_type": "stream",
     "text": [
      "Captions available            0.026630\n",
      "Co-op                         0.063564\n",
      "Commentary available          0.005319\n",
      "Cross-Platform Multiplayer    0.039926\n",
      "Full controller support       0.210342\n",
      "In-App Purchases              0.025485\n",
      "Includes Source SDK           0.001293\n",
      "Includes level editor         0.038264\n",
      "Local Co-op                   0.039114\n",
      "Local Multi-Player            0.059649\n",
      "MMO                           0.015549\n",
      "Mods                          0.000074\n",
      "Mods (require HL2)            0.000037\n",
      "Multi-player                  0.146777\n",
      "Online Co-op                  0.039557\n",
      "Online Multi-Player           0.091856\n",
      "Partial Controller Support    0.156380\n",
      "Shared/Split Screen           0.079483\n",
      "Single-player                 0.948403\n",
      "Stats                         0.069363\n",
      "Steam Achievements            0.521884\n",
      "Steam Cloud                   0.266630\n",
      "Steam Leaderboards            0.127018\n",
      "Steam Trading Cards           0.292447\n",
      "Steam Turn Notifications      0.002327\n",
      "Steam Workshop                0.033130\n",
      "SteamVR Collectibles          0.001477\n",
      "VR Support                    0.008532\n",
      "Valve Anti-Cheat enabled      0.003472\n",
      "dtype: float64\n"
     ]
    },
    {
     "data": {
      "text/plain": [
       "'Single-player'"
      ]
     },
     "execution_count": 58,
     "metadata": {},
     "output_type": "execute_result"
    }
   ],
   "source": [
    "# Q4  Which Category of games has the highest average play time.\n",
    "data = df['categories'].str.get_dummies(sep=';').mean()\n",
    "print(data)\n",
    "\n",
    "data1 = data.idxmax()\n",
    "data1"
   ]
  },
  {
   "cell_type": "code",
   "execution_count": null,
   "id": "cf443ccf",
   "metadata": {},
   "outputs": [],
   "source": []
  },
  {
   "cell_type": "code",
   "execution_count": 59,
   "id": "789f53ae-08b6-4265-b6d8-8b9925cb0bca",
   "metadata": {},
   "outputs": [
    {
     "data": {
      "text/html": [
       "<div>\n",
       "<style scoped>\n",
       "    .dataframe tbody tr th:only-of-type {\n",
       "        vertical-align: middle;\n",
       "    }\n",
       "\n",
       "    .dataframe tbody tr th {\n",
       "        vertical-align: top;\n",
       "    }\n",
       "\n",
       "    .dataframe thead th {\n",
       "        text-align: right;\n",
       "    }\n",
       "</style>\n",
       "<table border=\"1\" class=\"dataframe\">\n",
       "  <thead>\n",
       "    <tr style=\"text-align: right;\">\n",
       "      <th></th>\n",
       "      <th>sum</th>\n",
       "      <th>mean</th>\n",
       "      <th>min</th>\n",
       "      <th>max</th>\n",
       "    </tr>\n",
       "    <tr>\n",
       "      <th>required_age</th>\n",
       "      <th></th>\n",
       "      <th></th>\n",
       "      <th></th>\n",
       "      <th></th>\n",
       "    </tr>\n",
       "  </thead>\n",
       "  <tbody>\n",
       "    <tr>\n",
       "      <th>0</th>\n",
       "      <td>3726711</td>\n",
       "      <td>140.742135</td>\n",
       "      <td>0</td>\n",
       "      <td>190625</td>\n",
       "    </tr>\n",
       "    <tr>\n",
       "      <th>3</th>\n",
       "      <td>1861</td>\n",
       "      <td>169.181818</td>\n",
       "      <td>0</td>\n",
       "      <td>1350</td>\n",
       "    </tr>\n",
       "    <tr>\n",
       "      <th>7</th>\n",
       "      <td>726</td>\n",
       "      <td>60.500000</td>\n",
       "      <td>0</td>\n",
       "      <td>244</td>\n",
       "    </tr>\n",
       "    <tr>\n",
       "      <th>12</th>\n",
       "      <td>16520</td>\n",
       "      <td>226.301370</td>\n",
       "      <td>0</td>\n",
       "      <td>2622</td>\n",
       "    </tr>\n",
       "    <tr>\n",
       "      <th>16</th>\n",
       "      <td>127648</td>\n",
       "      <td>664.833333</td>\n",
       "      <td>0</td>\n",
       "      <td>28897</td>\n",
       "    </tr>\n",
       "    <tr>\n",
       "      <th>18</th>\n",
       "      <td>182503</td>\n",
       "      <td>592.542208</td>\n",
       "      <td>0</td>\n",
       "      <td>10659</td>\n",
       "    </tr>\n",
       "  </tbody>\n",
       "</table>\n",
       "</div>"
      ],
      "text/plain": [
       "                  sum        mean  min     max\n",
       "required_age                                  \n",
       "0             3726711  140.742135    0  190625\n",
       "3                1861  169.181818    0    1350\n",
       "7                 726   60.500000    0     244\n",
       "12              16520  226.301370    0    2622\n",
       "16             127648  664.833333    0   28897\n",
       "18             182503  592.542208    0   10659"
      ]
     },
     "execution_count": 59,
     "metadata": {},
     "output_type": "execute_result"
    }
   ],
   "source": [
    "# Q5 how does age influence average play time?\n",
    "# which age has the highest\n",
    "# find out sum, average, min, max for average playtimes for different age groups\n",
    "\n",
    "df.groupby('required_age')['average_playtime'].agg(['sum', 'mean', 'min', 'max'])"
   ]
  },
  {
   "cell_type": "code",
   "execution_count": null,
   "id": "1eea2075",
   "metadata": {},
   "outputs": [],
   "source": []
  },
  {
   "cell_type": "code",
   "execution_count": 60,
   "id": "8c0fef52-6a82-4d75-9b37-e185666c9e5b",
   "metadata": {},
   "outputs": [
    {
     "data": {
      "text/plain": [
       "'windows'"
      ]
     },
     "execution_count": 60,
     "metadata": {},
     "output_type": "execute_result"
    }
   ],
   "source": [
    "# Q6 Find out the most frequent platform among the top 5 profitable games.\n",
    "data = df.sort_values(by='revenue', ascending=False).head(5)\n",
    "platform = data['platforms'].value_counts()\n",
    "platform.idxmax()\n"
   ]
  },
  {
   "cell_type": "code",
   "execution_count": 61,
   "id": "21dea77c",
   "metadata": {},
   "outputs": [
    {
     "data": {
      "text/plain": [
       "Index(['appid', 'name', 'release_date', 'english', 'developer', 'publisher',\n",
       "       'platforms', 'required_age', 'categories', 'genres', 'steamspy_tags',\n",
       "       'achievements', 'positive_ratings', 'negative_ratings',\n",
       "       'average_playtime', 'median_playtime', 'owners', 'price', 'revenue'],\n",
       "      dtype='object')"
      ]
     },
     "execution_count": 61,
     "metadata": {},
     "output_type": "execute_result"
    }
   ],
   "source": [
    "df.columns"
   ]
  },
  {
   "cell_type": "code",
   "execution_count": 65,
   "id": "15200290-d013-4a12-b0bc-1b3d66ea6f5e",
   "metadata": {},
   "outputs": [
    {
     "data": {
      "text/plain": [
       "appid                                                          573060\n",
       "name                                                       LOGistICAL\n",
       "release_date                                               2017-02-15\n",
       "english                                                             1\n",
       "developer                                                      Sacada\n",
       "publisher                                                      Sacada\n",
       "platforms                                                     windows\n",
       "required_age                                                        0\n",
       "categories          Single-player;Steam Achievements;Steam Trading...\n",
       "genres                                          Casual;Indie;Strategy\n",
       "steamspy_tags                                   Casual;Strategy;Indie\n",
       "achievements                                                     9821\n",
       "positive_ratings                                                  125\n",
       "negative_ratings                                                   35\n",
       "average_playtime                                                    0\n",
       "median_playtime                                                     0\n",
       "owners                                                         100000\n",
       "price                                                            6.99\n",
       "revenue                                                      699000.0\n",
       "Name: 12604, dtype: object"
      ]
     },
     "execution_count": 65,
     "metadata": {},
     "output_type": "execute_result"
    }
   ],
   "source": [
    "# Q7 what is the optimal age restriction to make highest profit profitable game ?\n",
    "df.sort_values(by='achievements', ascending=False).iloc[0]"
   ]
  },
  {
   "cell_type": "code",
   "execution_count": null,
   "id": "5d9587d0-be48-4d73-b00c-be1b7925cc09",
   "metadata": {},
   "outputs": [],
   "source": [
    " "
   ]
  },
  {
   "cell_type": "markdown",
   "id": "1367bad8-0ec1-4b85-b5fe-b0d972844678",
   "metadata": {},
   "source": [
    "# ChatGPT qns \n",
    "# Beginner-Level (Basic Understanding):"
   ]
  },
  {
   "cell_type": "code",
   "execution_count": 67,
   "id": "4dfa8144-1127-4548-bfb8-35c05d27aea8",
   "metadata": {},
   "outputs": [
    {
     "name": "stdout",
     "output_type": "stream",
     "text": [
      "Number of games in the dataset: 27075\n"
     ]
    }
   ],
   "source": [
    "# 1. How many games are in the dataset?\n",
    "games = df.shape[0]\n",
    "\n",
    "print(\"Number of games in the dataset:\", games)"
   ]
  },
  {
   "cell_type": "code",
   "execution_count": 70,
   "id": "c2f73950",
   "metadata": {},
   "outputs": [
    {
     "data": {
      "text/plain": [
       "Index(['appid', 'name', 'release_date', 'english', 'developer', 'publisher',\n",
       "       'platforms', 'required_age', 'categories', 'genres', 'steamspy_tags',\n",
       "       'achievements', 'positive_ratings', 'negative_ratings',\n",
       "       'average_playtime', 'median_playtime', 'owners', 'price', 'revenue'],\n",
       "      dtype='object')"
      ]
     },
     "execution_count": 70,
     "metadata": {},
     "output_type": "execute_result"
    }
   ],
   "source": [
    "df.columns"
   ]
  },
  {
   "cell_type": "code",
   "execution_count": 193,
   "id": "b989c274-ba95-4f73-a132-58d6cd174d29",
   "metadata": {
    "scrolled": true
   },
   "outputs": [
    {
     "name": "stdout",
     "output_type": "stream",
     "text": [
      "Object `dataset` not found.\n"
     ]
    }
   ],
   "source": [
    "# 2. What are the names of the first 5 games in the dataset?\n"
   ]
  },
  {
   "cell_type": "code",
   "execution_count": 73,
   "id": "dfd25250",
   "metadata": {},
   "outputs": [
    {
     "name": "stdout",
     "output_type": "stream",
     "text": [
      "0               Counter-Strike\n",
      "1        Team Fortress Classic\n",
      "2                Day of Defeat\n",
      "3           Deathmatch Classic\n",
      "4    Half-Life: Opposing Force\n",
      "Name: name, dtype: object\n"
     ]
    }
   ],
   "source": [
    "game_names = df['name'].head(5)\n",
    "print(game_names)"
   ]
  },
  {
   "cell_type": "code",
   "execution_count": 75,
   "id": "8d39352c-6d0f-4d96-a9fb-5ca073f2233d",
   "metadata": {},
   "outputs": [
    {
     "data": {
      "text/plain": [
       "0"
      ]
     },
     "execution_count": 75,
     "metadata": {},
     "output_type": "execute_result"
    }
   ],
   "source": [
    "# 3. How many games are in English?\n",
    "df['categories'].str.contains('English', case=False, na=False).sum()"
   ]
  },
  {
   "cell_type": "code",
   "execution_count": 80,
   "id": "cbb08af7-2c85-4d27-9ee0-355821904fd4",
   "metadata": {},
   "outputs": [
    {
     "data": {
      "text/plain": [
       "6.078193167128348"
      ]
     },
     "execution_count": 80,
     "metadata": {},
     "output_type": "execute_result"
    }
   ],
   "source": [
    "# 4. What is the average price of the games in the dataset?\n",
    "df['price'].mean()"
   ]
  },
  {
   "cell_type": "code",
   "execution_count": 84,
   "id": "6de0c618-8f6d-497c-9d84-2b237855f9a9",
   "metadata": {},
   "outputs": [
    {
     "name": "stdout",
     "output_type": "stream",
     "text": [
      "Counter-Strike: Global Offensive\n",
      "2644404\n"
     ]
    }
   ],
   "source": [
    "# 5. Which game has the highest number of positive ratings?\n",
    "data=df.sort_values(by='positive_ratings', ascending=False).iloc[0]\n",
    "game_name = data['name']\n",
    "positive_ratings = data['positive_ratings']\n",
    "print(game_name)\n",
    "print(positive_ratings)"
   ]
  },
  {
   "cell_type": "code",
   "execution_count": 77,
   "id": "f0cdfabe",
   "metadata": {},
   "outputs": [
    {
     "data": {
      "text/plain": [
       "Index(['appid', 'name', 'release_date', 'english', 'developer', 'publisher',\n",
       "       'platforms', 'required_age', 'categories', 'genres', 'steamspy_tags',\n",
       "       'achievements', 'positive_ratings', 'negative_ratings',\n",
       "       'average_playtime', 'median_playtime', 'owners', 'price', 'revenue'],\n",
       "      dtype='object')"
      ]
     },
     "execution_count": 77,
     "metadata": {},
     "output_type": "execute_result"
    }
   ],
   "source": [
    "df.columns"
   ]
  },
  {
   "cell_type": "code",
   "execution_count": 86,
   "id": "c0dc1a55-c059-4a45-b3f4-7989529726c0",
   "metadata": {},
   "outputs": [
    {
     "data": {
      "text/plain": [
       "17112"
      ]
     },
     "execution_count": 86,
     "metadata": {},
     "output_type": "execute_result"
    }
   ],
   "source": [
    "# 6. How many unique developers are listed in the dataset?\n",
    "data=df['developer'].nunique()\n",
    "data"
   ]
  },
  {
   "cell_type": "code",
   "execution_count": 96,
   "id": "1cadd140-9367-4b16-bfb0-d162201e0a96",
   "metadata": {},
   "outputs": [
    {
     "name": "stdout",
     "output_type": "stream",
     "text": [
      "windows\n",
      "18398\n"
     ]
    }
   ],
   "source": [
    "# 7. What is the most common platform for the games in this dataset?\n",
    "counts=df['platforms'].value_counts()\n",
    "data = counts.idxmax()\n",
    "most_common_platform = counts.max()\n",
    "\n",
    "print(data)  \n",
    "print(most_common_platform)"
   ]
  },
  {
   "cell_type": "code",
   "execution_count": 99,
   "id": "e52513d0-359a-43ae-96ad-f8541b4c5ecc",
   "metadata": {},
   "outputs": [
    {
     "data": {
      "text/plain": [
       "308"
      ]
     },
     "execution_count": 99,
     "metadata": {},
     "output_type": "execute_result"
    }
   ],
   "source": [
    "# 8. How many games have a required age of 18 or higher?\n",
    "df['required_age'] = pd.to_numeric(df['required_age'], errors='coerce') \n",
    "games_age = df[df['required_age'] >= 18]\n",
    "games_age.shape[0]"
   ]
  },
  {
   "cell_type": "code",
   "execution_count": 101,
   "id": "dd840030-94e2-4593-9b9e-6b301e2d0bdb",
   "metadata": {},
   "outputs": [
    {
     "data": {
      "text/plain": [
       "42904149200.0"
      ]
     },
     "execution_count": 101,
     "metadata": {},
     "output_type": "execute_result"
    }
   ],
   "source": [
    "# 9. What is the total revenue generated by all games in the dataset?\n",
    "df['revenue'] = pd.to_numeric(df['revenue'], errors='coerce') \n",
    "revenue = df['revenue'].sum()\n",
    "revenue"
   ]
  },
  {
   "cell_type": "code",
   "execution_count": 102,
   "id": "203c6267-1c36-4b36-ac57-15b33c0b2078",
   "metadata": {},
   "outputs": [
    {
     "data": {
      "text/plain": [
       "2125"
      ]
     },
     "execution_count": 102,
     "metadata": {},
     "output_type": "execute_result"
    }
   ],
   "source": [
    "# 10. How many games have more than 50 achievements?\n",
    "df['achievements'] = pd.to_numeric(df['achievements'], errors='coerce')  \n",
    "game_achievements = df[df['achievements'] > 50]\n",
    "number_of_games = game_achievements.shape[0]\n",
    "number_of_games "
   ]
  },
  {
   "cell_type": "code",
   "execution_count": null,
   "id": "256e8d3b-b2e8-4e3c-a54e-e32f414a6788",
   "metadata": {},
   "outputs": [],
   "source": []
  },
  {
   "cell_type": "code",
   "execution_count": null,
   "id": "beccaa95-8f24-4d6f-b556-eb8ca2fa8196",
   "metadata": {},
   "outputs": [],
   "source": []
  },
  {
   "cell_type": "code",
   "execution_count": null,
   "id": "791a08d6-e535-4ade-8516-ed22b03c2d3c",
   "metadata": {},
   "outputs": [],
   "source": []
  },
  {
   "cell_type": "markdown",
   "id": "98d9d43b-db4d-4337-8d99-c8803bfd3502",
   "metadata": {},
   "source": [
    "# Intermediate-Level (Deeper Insights):"
   ]
  },
  {
   "cell_type": "code",
   "execution_count": 104,
   "id": "c463e964-6e2f-488c-8c20-e1e2c56d56b2",
   "metadata": {},
   "outputs": [
    {
     "data": {
      "text/plain": [
       "0.036109577993435234"
      ]
     },
     "execution_count": 104,
     "metadata": {},
     "output_type": "execute_result"
    }
   ],
   "source": [
    "# 1. What is the correlation between the price of a game and its positive ratings?\n",
    "df['price'] = pd.to_numeric(df['price'], errors='coerce') \n",
    "df['positive_ratings'] = pd.to_numeric(df['positive_ratings'], errors='coerce')\n",
    "\n",
    "correlation = df['price'].corr(df['positive_ratings'])\n",
    "correlation"
   ]
  },
  {
   "cell_type": "code",
   "execution_count": 105,
   "id": "8a2850f1-58d5-4eb6-a138-e6df2549c5a4",
   "metadata": {},
   "outputs": [
    {
     "data": {
      "text/plain": [
       "3"
      ]
     },
     "execution_count": 105,
     "metadata": {},
     "output_type": "execute_result"
    }
   ],
   "source": [
    "# 2. How many games are published by the publisher \"Indie Voyage\"?\n",
    "games=df[df['publisher'].str.contains('Indie Voyage', case=False, na=False)]\n",
    "games.shape[0]"
   ]
  },
  {
   "cell_type": "code",
   "execution_count": 189,
   "id": "7b65aff8-4538-439d-b0a0-b9b49556154c",
   "metadata": {},
   "outputs": [
    {
     "name": "stdout",
     "output_type": "stream",
     "text": [
      "Object `ratings` not found.\n"
     ]
    }
   ],
   "source": [
    "# 3. What is the median playtime for games that have over 100 positive ratings?\n"
   ]
  },
  {
   "cell_type": "code",
   "execution_count": null,
   "id": "8613b46b",
   "metadata": {},
   "outputs": [],
   "source": []
  },
  {
   "cell_type": "code",
   "execution_count": 110,
   "id": "29297128-10be-46c0-a5d6-417c4febcc53",
   "metadata": {},
   "outputs": [
    {
     "data": {
      "text/plain": [
       "56.0"
      ]
     },
     "execution_count": 110,
     "metadata": {},
     "output_type": "execute_result"
    }
   ],
   "source": [
    "df['positive_ratings'] = pd.to_numeric(df['positive_ratings'], errors='coerce')\n",
    "df['median_playtime'] = pd.to_numeric(df['median_playtime'], errors='coerce')\n",
    "\n",
    "games_with_more_than_100_ratings = df[df['positive_ratings'] > 100]\n",
    "\n",
    "\n",
    "median_playtime = games_with_more_than_100_ratings['median_playtime'].median()\n",
    "median_playtime"
   ]
  },
  {
   "cell_type": "code",
   "execution_count": 111,
   "id": "c716ec99-3d20-4927-98c4-9c87a6f9ffa3",
   "metadata": {},
   "outputs": [
    {
     "data": {
      "text/plain": [
       "56.18097876269621"
      ]
     },
     "execution_count": 111,
     "metadata": {},
     "output_type": "execute_result"
    }
   ],
   "source": [
    "# 4. What percentage of games have at least 1 Steam achievement?\n",
    "df['achievements'] = pd.to_numeric(df['achievements'], errors='coerce')  \n",
    "\n",
    "achievement = df[df['achievements'] > 0]\n",
    "\n",
    "total_games = df.shape[0]\n",
    "\n",
    "achievement.shape[0] / total_games * 100"
   ]
  },
  {
   "cell_type": "code",
   "execution_count": 190,
   "id": "981f9906-370a-4554-9960-4e93a434fd95",
   "metadata": {},
   "outputs": [
    {
     "name": "stdout",
     "output_type": "stream",
     "text": [
      "Object `genre` not found.\n"
     ]
    }
   ],
   "source": [
    "# 5. How many games are classified under the \"Action\" genre?\n"
   ]
  },
  {
   "cell_type": "code",
   "execution_count": 113,
   "id": "c900d645",
   "metadata": {},
   "outputs": [
    {
     "data": {
      "text/plain": [
       "Index(['appid', 'name', 'release_date', 'english', 'developer', 'publisher',\n",
       "       'platforms', 'required_age', 'categories', 'genres', 'steamspy_tags',\n",
       "       'achievements', 'positive_ratings', 'negative_ratings',\n",
       "       'average_playtime', 'median_playtime', 'owners', 'price', 'revenue'],\n",
       "      dtype='object')"
      ]
     },
     "execution_count": 113,
     "metadata": {},
     "output_type": "execute_result"
    }
   ],
   "source": [
    "df.columns"
   ]
  },
  {
   "cell_type": "code",
   "execution_count": 114,
   "id": "2af69725",
   "metadata": {},
   "outputs": [
    {
     "data": {
      "text/plain": [
       "11903"
      ]
     },
     "execution_count": 114,
     "metadata": {},
     "output_type": "execute_result"
    }
   ],
   "source": [
    "games_action=df[df['genres'].str.contains('Action', case=False, na=False)]\n",
    "games_action.shape[0]"
   ]
  },
  {
   "cell_type": "code",
   "execution_count": 116,
   "id": "fe5388f0-4996-4da7-ab13-e181d62fc7c4",
   "metadata": {},
   "outputs": [
    {
     "data": {
      "text/plain": [
       "211.02714681440443"
      ]
     },
     "execution_count": 116,
     "metadata": {},
     "output_type": "execute_result"
    }
   ],
   "source": [
    "# 6. What is the average number of negative ratings for games with over 10,000 owners?\n",
    "df['owners'] = pd.to_numeric(df['owners'], errors='coerce') \n",
    "df['negative_ratings'] = pd.to_numeric(df['negative_ratings'], errors='coerce')\n",
    "owners = df[df['owners'] > 10000]\n",
    "owners['negative_ratings'].mean()"
   ]
  },
  {
   "cell_type": "code",
   "execution_count": 117,
   "id": "6a1b37ee-7dc8-48b3-9d95-c830b0dfba4e",
   "metadata": {},
   "outputs": [
    {
     "name": "stdout",
     "output_type": "stream",
     "text": [
      "Choice of Games\n",
      "95\n"
     ]
    }
   ],
   "source": [
    "# 7. Which developer has the most games listed in the dataset?\n",
    "developer=df['developer'].value_counts()\n",
    "\n",
    "most_games = developer.idxmax()\n",
    "games_count = developer.max()\n",
    "\n",
    "print(most_games)\n",
    "print(games_count)"
   ]
  },
  {
   "cell_type": "code",
   "execution_count": 119,
   "id": "20fb91c4-f1e6-447a-becb-ad8c344b08cb",
   "metadata": {},
   "outputs": [
    {
     "data": {
      "text/plain": [
       "817.0091855480711"
      ]
     },
     "execution_count": 119,
     "metadata": {},
     "output_type": "execute_result"
    }
   ],
   "source": [
    "# 8. What is the average playtime for games with more than 500 positive ratings?\n",
    "new_df=df[df['positive_ratings']>500]\n",
    "new_df['average_playtime'].mean()"
   ]
  },
  {
   "cell_type": "code",
   "execution_count": 118,
   "id": "728a0d00-dd28-443d-8814-b868c5ff8d8c",
   "metadata": {},
   "outputs": [
    {
     "data": {
      "text/plain": [
       "2967"
      ]
     },
     "execution_count": 118,
     "metadata": {},
     "output_type": "execute_result"
    }
   ],
   "source": [
    "# 9. How many games are tagged as \"Early Access\" in their steamspy_tags?\n",
    "len(df[df['steamspy_tags'].str.contains('Early Access')])"
   ]
  },
  {
   "cell_type": "code",
   "execution_count": 120,
   "id": "84ea4616-b6ad-4610-b9b5-012ef22cb500",
   "metadata": {},
   "outputs": [
    {
     "data": {
      "text/plain": [
       "1829827500.0"
      ]
     },
     "execution_count": 120,
     "metadata": {},
     "output_type": "execute_result"
    }
   ],
   "source": [
    "# 10. What is the total revenue generated by games that have \"RPG\" in their genre?\n",
    "new_df=df[df['genres']=='RPG']\n",
    "new_df['revenue'].sum()"
   ]
  },
  {
   "cell_type": "markdown",
   "id": "334097d5-f4e2-4f23-b1aa-753449a792dd",
   "metadata": {},
   "source": []
  },
  {
   "cell_type": "markdown",
   "id": "377e729e-cc84-4f21-901f-299e38d60de8",
   "metadata": {},
   "source": [
    "# Advanced-Level (Complex Analysis):"
   ]
  },
  {
   "cell_type": "code",
   "execution_count": 121,
   "id": "0a72d56f-f473-4f2d-99de-3ab1b7a5bb11",
   "metadata": {},
   "outputs": [
    {
     "data": {
      "text/plain": [
       "0.14788822771568727"
      ]
     },
     "execution_count": 121,
     "metadata": {},
     "output_type": "execute_result"
    }
   ],
   "source": [
    "# 1. What is the relationship between a game's price and its revenue? Is there a positive or negative correlation?\n",
    "df['price'].corr(df['revenue'])"
   ]
  },
  {
   "cell_type": "code",
   "execution_count": 122,
   "id": "bdbcdec0-9f33-4935-8efe-1d75bcbe6b03",
   "metadata": {},
   "outputs": [
    {
     "name": "stdout",
     "output_type": "stream",
     "text": [
      "Before 2015 Average positive ratings : 4117.850014762326\n",
      "After 2015 Average positive ratings : 554.8363728470111\n"
     ]
    }
   ],
   "source": [
    "# 2. What is the average number of positive ratings for games released before 2015 compared to those released after 2015?\n",
    "df['release_date'] = pd.to_datetime(df['release_date'])\n",
    "\n",
    "before_2015 = df[df['release_date'].dt.year < 2015]\n",
    "after_2015 = df[df['release_date'].dt.year >= 2015]\n",
    "\n",
    "before_ratings = before_2015['positive_ratings'].mean()\n",
    "after_ratings = after_2015['positive_ratings'].mean()\n",
    "\n",
    "print(\"Before 2015 Average positive ratings :\", before_ratings)\n",
    "print(\"After 2015 Average positive ratings :\", after_ratings)"
   ]
  },
  {
   "cell_type": "code",
   "execution_count": 123,
   "id": "9e3195a4-4af3-4069-b7e7-1db981e67ebc",
   "metadata": {},
   "outputs": [
    {
     "data": {
      "text/plain": [
       "genres_split\n",
       "Massively Multiplayer    5.821937e+06\n",
       "Web Publishing           4.586529e+06\n",
       "Action                   2.270695e+06\n",
       "Design & Illustration    2.166987e+06\n",
       "RPG                      2.145811e+06\n",
       "Name: revenue, dtype: float64"
      ]
     },
     "execution_count": 123,
     "metadata": {},
     "output_type": "execute_result"
    }
   ],
   "source": [
    "# 3. Find the top 5 genres that generate the highest average revenue.\n",
    "df['genres_split']=df['genres'].str.split(';')#.explode()\n",
    "df_exploaded = df.explode('genres_split')\n",
    "\n",
    "df_exploaded.groupby(['genres_split'])['revenue'].mean().sort_values(ascending=False).head()"
   ]
  },
  {
   "cell_type": "code",
   "execution_count": 124,
   "id": "9bdbeec3-0ad9-4f18-90aa-f2ea5d50dddd",
   "metadata": {},
   "outputs": [
    {
     "data": {
      "text/plain": [
       "11.884162724692526"
      ]
     },
     "execution_count": 124,
     "metadata": {},
     "output_type": "execute_result"
    }
   ],
   "source": [
    "# 4. What is the average price for games with more than 50 achievements and more than 100 positive ratings?\n",
    "new_df = df[(df['achievements']>50) & (df['positive_ratings']>100)]\n",
    "new_df['price'].mean()"
   ]
  },
  {
   "cell_type": "code",
   "execution_count": 125,
   "id": "4acc2dbd-27fa-40a4-9cad-797f0fb2de92",
   "metadata": {},
   "outputs": [
    {
     "data": {
      "text/plain": [
       "8673"
      ]
     },
     "execution_count": 125,
     "metadata": {},
     "output_type": "execute_result"
    }
   ],
   "source": [
    "# 5. How many games are available on multiple platforms (e.g., Windows and another platform)?\n",
    "df['num_platforms']=df['platforms'].str.split(';').apply(len)\n",
    "len(df[df['num_platforms']>1])"
   ]
  },
  {
   "cell_type": "code",
   "execution_count": 160,
   "id": "fafe399a-a32d-4fb5-bc5b-58ddd6a229f9",
   "metadata": {},
   "outputs": [],
   "source": [
    "# 6. Which genre has the highest number of games with over 1,000 positive ratings?\n"
   ]
  },
  {
   "cell_type": "code",
   "execution_count": 158,
   "id": "a5d43f2e",
   "metadata": {},
   "outputs": [
    {
     "name": "stdout",
     "output_type": "stream",
     "text": [
      "Genre with the highest number of games with over 1,000 positive ratings: ['Action']\n",
      "Number of games in this genre: 228\n"
     ]
    }
   ],
   "source": [
    "df['positive_ratings'] = pd.to_numeric(df['positive_ratings'], errors='coerce')\n",
    "\n",
    "\n",
    "games_with_more_than_1000_ratings = df[df['positive_ratings'] > 1000]\n",
    "\n",
    "if games_with_more_than_1000_ratings['genres'].str.contains(',').any():\n",
    "    games_with_more_than_1000_ratings['genres'] = games_with_more_than_1000_ratings['genres'].str.split(',')\n",
    "    df_exploded = games_with_more_than_1000_ratings.explode('genres')\n",
    "else:\n",
    "    df_exploded = games_with_more_than_1000_ratings\n",
    "\n",
    "most_common_genre = df_exploded['genres'].value_counts().idxmax()\n",
    "most_common_count = df_exploded['genres'].value_counts().max()\n",
    "\n",
    "print(\"Genre with the highest number of games with over 1,000 positive ratings:\", most_common_genre)\n",
    "print(\"Number of games in this genre:\", most_common_count)"
   ]
  },
  {
   "cell_type": "code",
   "execution_count": 130,
   "id": "01e2efff-8c4b-40e8-a556-23ee4669946e",
   "metadata": {},
   "outputs": [
    {
     "name": "stdout",
     "output_type": "stream",
     "text": [
      "Median PLaytime for game under 20$ : 0.0\n",
      "Median PLaytime for game above 20$ : 0.0\n"
     ]
    }
   ],
   "source": [
    "# 7. For games with a price higher than $20, what is the median playtime compared to games priced under $20?\n",
    "under_20 = df[df['price']<20]\n",
    "above_20 = df[df['price']>=20]\n",
    "\n",
    "med_play_under_20 = under_20['median_playtime'].median()\n",
    "med_play_above_20 = above_20['median_playtime'].median()\n",
    "\n",
    "print('Median PLaytime for game under 20$ :',med_play_under_20)\n",
    "print('Median PLaytime for game above 20$ :',med_play_above_20)\n"
   ]
  },
  {
   "cell_type": "code",
   "execution_count": 131,
   "id": "22b51675-628a-4b2c-9b92-cb8fd5b2ac64",
   "metadata": {},
   "outputs": [],
   "source": [
    "# 8. Build a model to predict the number of positive ratings based on features like price, release date, and genre.\n",
    "df['release_date'] = pd.to_datetime(df['release_date'])\n",
    "df['release_year'] = df['release_date'].dt.year\n",
    "df['release_month'] = df['release_date'].dt.month\n",
    "\n",
    "# Split genres\n",
    "df['genres'] = df['genres'].str.split(';')\n",
    "df_exploded = df.explode('genres')\n"
   ]
  },
  {
   "cell_type": "code",
   "execution_count": 132,
   "id": "03715fb0",
   "metadata": {},
   "outputs": [],
   "source": [
    "# Features and target variable\n",
    "X = df_exploded[['price', 'release_year', 'release_month', 'genres']]\n",
    "y = df_exploded['positive_ratings']\n"
   ]
  },
  {
   "cell_type": "code",
   "execution_count": 133,
   "id": "75e5599e",
   "metadata": {},
   "outputs": [],
   "source": [
    "from sklearn.model_selection import train_test_split\n",
    "X_train, X_test, y_train, y_test = train_test_split(X, y, test_size=0.1, random_state=1)"
   ]
  },
  {
   "cell_type": "code",
   "execution_count": 134,
   "id": "22a356e3",
   "metadata": {},
   "outputs": [],
   "source": [
    "X_train_num=X_train.select_dtypes(exclude=['object'])\n",
    "X_train_cat=X_train.select_dtypes(include=['object'])"
   ]
  },
  {
   "cell_type": "code",
   "execution_count": 135,
   "id": "eceb1bd2",
   "metadata": {},
   "outputs": [],
   "source": [
    "from sklearn.preprocessing import StandardScaler\n",
    "std_scaler=StandardScaler()\n",
    "X_train_num_transformed=pd.DataFrame(std_scaler.fit_transform(X_train_num),\n",
    "                                    columns=std_scaler.get_feature_names_out(),\n",
    "                                    index=X_train_num.index)\n",
    "\n"
   ]
  },
  {
   "cell_type": "code",
   "execution_count": 136,
   "id": "254e510c",
   "metadata": {},
   "outputs": [
    {
     "data": {
      "text/html": [
       "<div>\n",
       "<style scoped>\n",
       "    .dataframe tbody tr th:only-of-type {\n",
       "        vertical-align: middle;\n",
       "    }\n",
       "\n",
       "    .dataframe tbody tr th {\n",
       "        vertical-align: top;\n",
       "    }\n",
       "\n",
       "    .dataframe thead th {\n",
       "        text-align: right;\n",
       "    }\n",
       "</style>\n",
       "<table border=\"1\" class=\"dataframe\">\n",
       "  <thead>\n",
       "    <tr style=\"text-align: right;\">\n",
       "      <th></th>\n",
       "      <th>genres</th>\n",
       "    </tr>\n",
       "  </thead>\n",
       "  <tbody>\n",
       "    <tr>\n",
       "      <th>9208</th>\n",
       "      <td>2.0</td>\n",
       "    </tr>\n",
       "    <tr>\n",
       "      <th>2422</th>\n",
       "      <td>21.0</td>\n",
       "    </tr>\n",
       "    <tr>\n",
       "      <th>6884</th>\n",
       "      <td>10.0</td>\n",
       "    </tr>\n",
       "    <tr>\n",
       "      <th>14246</th>\n",
       "      <td>2.0</td>\n",
       "    </tr>\n",
       "    <tr>\n",
       "      <th>5688</th>\n",
       "      <td>22.0</td>\n",
       "    </tr>\n",
       "  </tbody>\n",
       "</table>\n",
       "</div>"
      ],
      "text/plain": [
       "       genres\n",
       "9208      2.0\n",
       "2422     21.0\n",
       "6884     10.0\n",
       "14246     2.0\n",
       "5688     22.0"
      ]
     },
     "execution_count": 136,
     "metadata": {},
     "output_type": "execute_result"
    }
   ],
   "source": [
    "from sklearn.preprocessing import OrdinalEncoder\n",
    "ordinal_encoder=OrdinalEncoder(handle_unknown=\"use_encoded_value\",\n",
    "                              unknown_value=-1,\n",
    "                              encoded_missing_value=-5)\n",
    "X_train_cat_transformed=pd.DataFrame(ordinal_encoder.fit_transform(X_train_cat),\n",
    "                                    columns=ordinal_encoder.get_feature_names_out(),\n",
    "                                    index=X_train_cat.index)\n",
    "X_train_cat_transformed.head()"
   ]
  },
  {
   "cell_type": "code",
   "execution_count": 137,
   "id": "f4f98a98",
   "metadata": {},
   "outputs": [
    {
     "data": {
      "text/html": [
       "<div>\n",
       "<style scoped>\n",
       "    .dataframe tbody tr th:only-of-type {\n",
       "        vertical-align: middle;\n",
       "    }\n",
       "\n",
       "    .dataframe tbody tr th {\n",
       "        vertical-align: top;\n",
       "    }\n",
       "\n",
       "    .dataframe thead th {\n",
       "        text-align: right;\n",
       "    }\n",
       "</style>\n",
       "<table border=\"1\" class=\"dataframe\">\n",
       "  <thead>\n",
       "    <tr style=\"text-align: right;\">\n",
       "      <th></th>\n",
       "      <th>price</th>\n",
       "      <th>release_year</th>\n",
       "      <th>release_month</th>\n",
       "      <th>genres</th>\n",
       "    </tr>\n",
       "  </thead>\n",
       "  <tbody>\n",
       "    <tr>\n",
       "      <th>9208</th>\n",
       "      <td>-0.645648</td>\n",
       "      <td>-0.391732</td>\n",
       "      <td>-0.441366</td>\n",
       "      <td>2.0</td>\n",
       "    </tr>\n",
       "    <tr>\n",
       "      <th>2422</th>\n",
       "      <td>0.714893</td>\n",
       "      <td>-1.466853</td>\n",
       "      <td>-1.306288</td>\n",
       "      <td>21.0</td>\n",
       "    </tr>\n",
       "    <tr>\n",
       "      <th>6884</th>\n",
       "      <td>-0.747046</td>\n",
       "      <td>-0.929293</td>\n",
       "      <td>1.000171</td>\n",
       "      <td>10.0</td>\n",
       "    </tr>\n",
       "    <tr>\n",
       "      <th>14246</th>\n",
       "      <td>0.150140</td>\n",
       "      <td>0.145828</td>\n",
       "      <td>-0.729673</td>\n",
       "      <td>2.0</td>\n",
       "    </tr>\n",
       "    <tr>\n",
       "      <th>5688</th>\n",
       "      <td>-0.747046</td>\n",
       "      <td>0.145828</td>\n",
       "      <td>0.711863</td>\n",
       "      <td>22.0</td>\n",
       "    </tr>\n",
       "  </tbody>\n",
       "</table>\n",
       "</div>"
      ],
      "text/plain": [
       "          price  release_year  release_month  genres\n",
       "9208  -0.645648     -0.391732      -0.441366     2.0\n",
       "2422   0.714893     -1.466853      -1.306288    21.0\n",
       "6884  -0.747046     -0.929293       1.000171    10.0\n",
       "14246  0.150140      0.145828      -0.729673     2.0\n",
       "5688  -0.747046      0.145828       0.711863    22.0"
      ]
     },
     "execution_count": 137,
     "metadata": {},
     "output_type": "execute_result"
    }
   ],
   "source": [
    "X_train_transformed = pd.concat([X_train_num_transformed,X_train_cat_transformed],axis=1)\n",
    "X_train_transformed.head()"
   ]
  },
  {
   "cell_type": "code",
   "execution_count": 138,
   "id": "c17e3cd6",
   "metadata": {},
   "outputs": [],
   "source": [
    "X_test_num=X_test.select_dtypes(exclude=['object'])\n",
    "X_test_cat=X_test.select_dtypes(include=['object'])\n"
   ]
  },
  {
   "cell_type": "code",
   "execution_count": 139,
   "id": "7e265e44",
   "metadata": {},
   "outputs": [
    {
     "data": {
      "text/html": [
       "<div>\n",
       "<style scoped>\n",
       "    .dataframe tbody tr th:only-of-type {\n",
       "        vertical-align: middle;\n",
       "    }\n",
       "\n",
       "    .dataframe tbody tr th {\n",
       "        vertical-align: top;\n",
       "    }\n",
       "\n",
       "    .dataframe thead th {\n",
       "        text-align: right;\n",
       "    }\n",
       "</style>\n",
       "<table border=\"1\" class=\"dataframe\">\n",
       "  <thead>\n",
       "    <tr style=\"text-align: right;\">\n",
       "      <th></th>\n",
       "      <th>price</th>\n",
       "      <th>release_year</th>\n",
       "      <th>release_month</th>\n",
       "      <th>genres</th>\n",
       "    </tr>\n",
       "  </thead>\n",
       "  <tbody>\n",
       "    <tr>\n",
       "      <th>7164</th>\n",
       "      <td>-0.234918</td>\n",
       "      <td>-0.929293</td>\n",
       "      <td>1.288478</td>\n",
       "      <td>2.0</td>\n",
       "    </tr>\n",
       "    <tr>\n",
       "      <th>1418</th>\n",
       "      <td>0.150140</td>\n",
       "      <td>-2.541974</td>\n",
       "      <td>0.711863</td>\n",
       "      <td>17.0</td>\n",
       "    </tr>\n",
       "    <tr>\n",
       "      <th>25933</th>\n",
       "      <td>-0.645648</td>\n",
       "      <td>0.683389</td>\n",
       "      <td>1.576786</td>\n",
       "      <td>13.0</td>\n",
       "    </tr>\n",
       "    <tr>\n",
       "      <th>25616</th>\n",
       "      <td>-0.747046</td>\n",
       "      <td>1.220950</td>\n",
       "      <td>-0.729673</td>\n",
       "      <td>13.0</td>\n",
       "    </tr>\n",
       "    <tr>\n",
       "      <th>22926</th>\n",
       "      <td>-0.645648</td>\n",
       "      <td>0.683389</td>\n",
       "      <td>0.135249</td>\n",
       "      <td>13.0</td>\n",
       "    </tr>\n",
       "  </tbody>\n",
       "</table>\n",
       "</div>"
      ],
      "text/plain": [
       "          price  release_year  release_month  genres\n",
       "7164  -0.234918     -0.929293       1.288478     2.0\n",
       "1418   0.150140     -2.541974       0.711863    17.0\n",
       "25933 -0.645648      0.683389       1.576786    13.0\n",
       "25616 -0.747046      1.220950      -0.729673    13.0\n",
       "22926 -0.645648      0.683389       0.135249    13.0"
      ]
     },
     "execution_count": 139,
     "metadata": {},
     "output_type": "execute_result"
    }
   ],
   "source": [
    "# Numerical data ttransformation\n",
    "X_test_num_transformed=pd.DataFrame(std_scaler.transform(X_test_num),\n",
    "                                   columns=std_scaler.get_feature_names_out(),\n",
    "                                   index=X_test_num.index)\n",
    "\n",
    "X_test_cat_transformed = pd.DataFrame(ordinal_encoder.transform(X_test_cat),\n",
    "                                      columns=ordinal_encoder.get_feature_names_out(),\n",
    "                                     index=X_test_cat.index)\n",
    "\n",
    "X_test_transformed = pd.concat([X_test_num_transformed,X_test_cat_transformed],axis=1)\n",
    "X_test_transformed.head()"
   ]
  },
  {
   "cell_type": "code",
   "execution_count": 140,
   "id": "51595799",
   "metadata": {},
   "outputs": [
    {
     "name": "stdout",
     "output_type": "stream",
     "text": [
      "Mean Absolute Error: 1742.2900301780182\n",
      "CPU times: total: 62.5 ms\n",
      "Wall time: 192 ms\n"
     ]
    }
   ],
   "source": [
    "%%time\n",
    "from sklearn.linear_model import LinearRegression\n",
    "from sklearn import metrics\n",
    "\n",
    "linear_regressor = LinearRegression()\n",
    "linear_regressor.fit(X_train_transformed,y_train)\n",
    "\n",
    "y_test_predicted=linear_regressor.predict(X_test_transformed)\n",
    "error=metrics.mean_absolute_error(y_test, y_test_predicted)\n",
    "print(\"Mean Absolute Error:\", error)\n"
   ]
  },
  {
   "cell_type": "code",
   "execution_count": 141,
   "id": "41ecd309",
   "metadata": {},
   "outputs": [
    {
     "name": "stdout",
     "output_type": "stream",
     "text": [
      "Mean Absolute Error: 1536.8396233817182\n",
      "CPU times: total: 156 ms\n",
      "Wall time: 270 ms\n"
     ]
    }
   ],
   "source": [
    "%%time\n",
    "from sklearn.neighbors import KNeighborsRegressor\n",
    "\n",
    "knn_regressor=KNeighborsRegressor()\n",
    "knn_regressor.fit(X_train_transformed,y_train)\n",
    "\n",
    "y_test_predicted = knn_regressor.predict(X_test_transformed)\n",
    "error = metrics.mean_absolute_error(y_test, y_test_predicted)\n",
    "print(\"Mean Absolute Error:\",error)\n"
   ]
  },
  {
   "cell_type": "code",
   "execution_count": 142,
   "id": "01f2aff7",
   "metadata": {},
   "outputs": [
    {
     "name": "stdout",
     "output_type": "stream",
     "text": [
      "Mean Absolute Error: 1447.5229686981108\n",
      "CPU times: total: 78.1 ms\n",
      "Wall time: 209 ms\n"
     ]
    }
   ],
   "source": [
    "%%time\n",
    "from sklearn.tree import DecisionTreeRegressor\n",
    "\n",
    "dt_regressor=DecisionTreeRegressor()\n",
    "dt_regressor.fit(X_train_transformed,y_train)\n",
    "\n",
    "y_test_predicted = dt_regressor.predict(X_test_transformed)\n",
    "error = metrics.mean_absolute_error(y_test, y_test_predicted)\n",
    "print(\"Mean Absolute Error:\",error)\n"
   ]
  },
  {
   "cell_type": "code",
   "execution_count": 145,
   "id": "39d945ab",
   "metadata": {},
   "outputs": [
    {
     "name": "stdout",
     "output_type": "stream",
     "text": [
      "Mean Absolute Error: 1447.8279931334291\n",
      "CPU times: total: 4.77 s\n",
      "Wall time: 11 s\n"
     ]
    }
   ],
   "source": [
    "%%time\n",
    "from sklearn.ensemble import RandomForestRegressor\n",
    "\n",
    "rf_regressor=RandomForestRegressor()\n",
    "rf_regressor.fit(X_train_transformed,y_train)\n",
    "\n",
    "y_test_predicted = rf_regressor.predict(X_test_transformed)\n",
    "error = metrics.mean_absolute_error(y_test, y_test_predicted)\n",
    "print(\"Mean Absolute Error:\",error)\n"
   ]
  },
  {
   "cell_type": "code",
   "execution_count": 146,
   "id": "ad8da70b-8dad-487e-8378-ead950c7e1d1",
   "metadata": {},
   "outputs": [
    {
     "name": "stdout",
     "output_type": "stream",
     "text": [
      "              price  release_year\n",
      "count  13536.000000  13536.000000\n",
      "mean       5.563090   2016.441268\n",
      "std        7.167276      2.034815\n",
      "min        0.000000   2003.000000\n",
      "25%        1.590000   2016.000000\n",
      "50%        3.990000   2017.000000\n",
      "75%        6.990000   2018.000000\n",
      "max      154.990000   2019.000000\n",
      "Series([], Name: count, dtype: int64)\n",
      "platforms\n",
      "windows    13534\n",
      "mac         3348\n",
      "linux       2065\n",
      "Name: count, dtype: int64\n"
     ]
    }
   ],
   "source": [
    "# 9. Identify games that have a high number of negative ratings relative to positive ratings. What are the common characteristics of these games?\n",
    "df['negative_to_positive_ratio'] = df['negative_ratings'] / (df['positive_ratings'] + 1)\n",
    "median_ratio = df['negative_to_positive_ratio'].median()\n",
    "high_ratio_games = df[df['negative_to_positive_ratio'] > median_ratio]\n",
    "\n",
    "# Basic statistics\n",
    "print(high_ratio_games[['price', 'release_year']].describe())\n",
    "\n",
    "# Most common genres\n",
    "print(high_ratio_games['genres'].str.split(';').explode().value_counts())\n",
    "\n",
    "# Most common platforms\n",
    "print(high_ratio_games['platforms'].str.split(';').explode().value_counts())\n"
   ]
  },
  {
   "cell_type": "code",
   "execution_count": null,
   "id": "d81d1866-dd81-4db1-95aa-7217196d244a",
   "metadata": {},
   "outputs": [],
   "source": [
    "# 10. What is the most significant factor affecting a game's revenue based on the dataset? Perform a regression analysis to determine this.\n"
   ]
  },
  {
   "cell_type": "code",
   "execution_count": 147,
   "id": "5b24fdeb",
   "metadata": {},
   "outputs": [],
   "source": [
    "# Features and target variable\n",
    "X = df_exploded[['price', 'release_year', 'release_month', 'genres']]\n",
    "y = df_exploded['revenue']"
   ]
  },
  {
   "cell_type": "code",
   "execution_count": 148,
   "id": "6ceffe60",
   "metadata": {},
   "outputs": [],
   "source": [
    "from sklearn.model_selection import train_test_split\n",
    "X_train, X_test, y_train, y_test = train_test_split(X, y, test_size=0.1, random_state=1)"
   ]
  },
  {
   "cell_type": "code",
   "execution_count": 149,
   "id": "7fc8efa2-dd4f-4b9b-99af-60f1b3a0a4d9",
   "metadata": {},
   "outputs": [],
   "source": [
    "X_train_num=X_train.select_dtypes(exclude=['object'])\n",
    "X_train_cat=X_train.select_dtypes(include=['object'])"
   ]
  },
  {
   "cell_type": "code",
   "execution_count": 150,
   "id": "4c759a40",
   "metadata": {},
   "outputs": [],
   "source": [
    "from sklearn.preprocessing import StandardScaler\n",
    "std_scaler=StandardScaler()\n",
    "X_train_num_transformed=pd.DataFrame(std_scaler.fit_transform(X_train_num),\n",
    "                                    columns=std_scaler.get_feature_names_out(),\n",
    "                                    index=X_train_num.index)\n",
    "\n"
   ]
  },
  {
   "cell_type": "code",
   "execution_count": 151,
   "id": "cc67a86b",
   "metadata": {},
   "outputs": [
    {
     "data": {
      "text/html": [
       "<div>\n",
       "<style scoped>\n",
       "    .dataframe tbody tr th:only-of-type {\n",
       "        vertical-align: middle;\n",
       "    }\n",
       "\n",
       "    .dataframe tbody tr th {\n",
       "        vertical-align: top;\n",
       "    }\n",
       "\n",
       "    .dataframe thead th {\n",
       "        text-align: right;\n",
       "    }\n",
       "</style>\n",
       "<table border=\"1\" class=\"dataframe\">\n",
       "  <thead>\n",
       "    <tr style=\"text-align: right;\">\n",
       "      <th></th>\n",
       "      <th>genres</th>\n",
       "    </tr>\n",
       "  </thead>\n",
       "  <tbody>\n",
       "    <tr>\n",
       "      <th>9208</th>\n",
       "      <td>2.0</td>\n",
       "    </tr>\n",
       "    <tr>\n",
       "      <th>2422</th>\n",
       "      <td>21.0</td>\n",
       "    </tr>\n",
       "    <tr>\n",
       "      <th>6884</th>\n",
       "      <td>10.0</td>\n",
       "    </tr>\n",
       "    <tr>\n",
       "      <th>14246</th>\n",
       "      <td>2.0</td>\n",
       "    </tr>\n",
       "    <tr>\n",
       "      <th>5688</th>\n",
       "      <td>22.0</td>\n",
       "    </tr>\n",
       "  </tbody>\n",
       "</table>\n",
       "</div>"
      ],
      "text/plain": [
       "       genres\n",
       "9208      2.0\n",
       "2422     21.0\n",
       "6884     10.0\n",
       "14246     2.0\n",
       "5688     22.0"
      ]
     },
     "execution_count": 151,
     "metadata": {},
     "output_type": "execute_result"
    }
   ],
   "source": [
    "from sklearn.preprocessing import OrdinalEncoder\n",
    "ordinal_encoder=OrdinalEncoder(handle_unknown=\"use_encoded_value\",\n",
    "                              unknown_value=-1,\n",
    "                              encoded_missing_value=-5)\n",
    "X_train_cat_transformed=pd.DataFrame(ordinal_encoder.fit_transform(X_train_cat),\n",
    "                                    columns=ordinal_encoder.get_feature_names_out(),\n",
    "                                    index=X_train_cat.index)\n",
    "X_train_cat_transformed.head()"
   ]
  },
  {
   "cell_type": "code",
   "execution_count": 152,
   "id": "b84f67c0",
   "metadata": {},
   "outputs": [
    {
     "data": {
      "text/html": [
       "<div>\n",
       "<style scoped>\n",
       "    .dataframe tbody tr th:only-of-type {\n",
       "        vertical-align: middle;\n",
       "    }\n",
       "\n",
       "    .dataframe tbody tr th {\n",
       "        vertical-align: top;\n",
       "    }\n",
       "\n",
       "    .dataframe thead th {\n",
       "        text-align: right;\n",
       "    }\n",
       "</style>\n",
       "<table border=\"1\" class=\"dataframe\">\n",
       "  <thead>\n",
       "    <tr style=\"text-align: right;\">\n",
       "      <th></th>\n",
       "      <th>price</th>\n",
       "      <th>release_year</th>\n",
       "      <th>release_month</th>\n",
       "      <th>genres</th>\n",
       "    </tr>\n",
       "  </thead>\n",
       "  <tbody>\n",
       "    <tr>\n",
       "      <th>9208</th>\n",
       "      <td>-0.645648</td>\n",
       "      <td>-0.391732</td>\n",
       "      <td>-0.441366</td>\n",
       "      <td>2.0</td>\n",
       "    </tr>\n",
       "    <tr>\n",
       "      <th>2422</th>\n",
       "      <td>0.714893</td>\n",
       "      <td>-1.466853</td>\n",
       "      <td>-1.306288</td>\n",
       "      <td>21.0</td>\n",
       "    </tr>\n",
       "    <tr>\n",
       "      <th>6884</th>\n",
       "      <td>-0.747046</td>\n",
       "      <td>-0.929293</td>\n",
       "      <td>1.000171</td>\n",
       "      <td>10.0</td>\n",
       "    </tr>\n",
       "    <tr>\n",
       "      <th>14246</th>\n",
       "      <td>0.150140</td>\n",
       "      <td>0.145828</td>\n",
       "      <td>-0.729673</td>\n",
       "      <td>2.0</td>\n",
       "    </tr>\n",
       "    <tr>\n",
       "      <th>5688</th>\n",
       "      <td>-0.747046</td>\n",
       "      <td>0.145828</td>\n",
       "      <td>0.711863</td>\n",
       "      <td>22.0</td>\n",
       "    </tr>\n",
       "  </tbody>\n",
       "</table>\n",
       "</div>"
      ],
      "text/plain": [
       "          price  release_year  release_month  genres\n",
       "9208  -0.645648     -0.391732      -0.441366     2.0\n",
       "2422   0.714893     -1.466853      -1.306288    21.0\n",
       "6884  -0.747046     -0.929293       1.000171    10.0\n",
       "14246  0.150140      0.145828      -0.729673     2.0\n",
       "5688  -0.747046      0.145828       0.711863    22.0"
      ]
     },
     "execution_count": 152,
     "metadata": {},
     "output_type": "execute_result"
    }
   ],
   "source": [
    "X_train_transformed = pd.concat([X_train_num_transformed,X_train_cat_transformed],axis=1)\n",
    "X_train_transformed.head()"
   ]
  },
  {
   "cell_type": "code",
   "execution_count": 153,
   "id": "ad41c84b",
   "metadata": {},
   "outputs": [],
   "source": [
    "X_test_num=X_test.select_dtypes(exclude=['object'])\n",
    "X_test_cat=X_test.select_dtypes(include=['object'])\n"
   ]
  },
  {
   "cell_type": "code",
   "execution_count": 154,
   "id": "87bdf263",
   "metadata": {},
   "outputs": [
    {
     "data": {
      "text/html": [
       "<div>\n",
       "<style scoped>\n",
       "    .dataframe tbody tr th:only-of-type {\n",
       "        vertical-align: middle;\n",
       "    }\n",
       "\n",
       "    .dataframe tbody tr th {\n",
       "        vertical-align: top;\n",
       "    }\n",
       "\n",
       "    .dataframe thead th {\n",
       "        text-align: right;\n",
       "    }\n",
       "</style>\n",
       "<table border=\"1\" class=\"dataframe\">\n",
       "  <thead>\n",
       "    <tr style=\"text-align: right;\">\n",
       "      <th></th>\n",
       "      <th>price</th>\n",
       "      <th>release_year</th>\n",
       "      <th>release_month</th>\n",
       "      <th>genres</th>\n",
       "    </tr>\n",
       "  </thead>\n",
       "  <tbody>\n",
       "    <tr>\n",
       "      <th>7164</th>\n",
       "      <td>-0.234918</td>\n",
       "      <td>-0.929293</td>\n",
       "      <td>1.288478</td>\n",
       "      <td>2.0</td>\n",
       "    </tr>\n",
       "    <tr>\n",
       "      <th>1418</th>\n",
       "      <td>0.150140</td>\n",
       "      <td>-2.541974</td>\n",
       "      <td>0.711863</td>\n",
       "      <td>17.0</td>\n",
       "    </tr>\n",
       "    <tr>\n",
       "      <th>25933</th>\n",
       "      <td>-0.645648</td>\n",
       "      <td>0.683389</td>\n",
       "      <td>1.576786</td>\n",
       "      <td>13.0</td>\n",
       "    </tr>\n",
       "    <tr>\n",
       "      <th>25616</th>\n",
       "      <td>-0.747046</td>\n",
       "      <td>1.220950</td>\n",
       "      <td>-0.729673</td>\n",
       "      <td>13.0</td>\n",
       "    </tr>\n",
       "    <tr>\n",
       "      <th>22926</th>\n",
       "      <td>-0.645648</td>\n",
       "      <td>0.683389</td>\n",
       "      <td>0.135249</td>\n",
       "      <td>13.0</td>\n",
       "    </tr>\n",
       "  </tbody>\n",
       "</table>\n",
       "</div>"
      ],
      "text/plain": [
       "          price  release_year  release_month  genres\n",
       "7164  -0.234918     -0.929293       1.288478     2.0\n",
       "1418   0.150140     -2.541974       0.711863    17.0\n",
       "25933 -0.645648      0.683389       1.576786    13.0\n",
       "25616 -0.747046      1.220950      -0.729673    13.0\n",
       "22926 -0.645648      0.683389       0.135249    13.0"
      ]
     },
     "execution_count": 154,
     "metadata": {},
     "output_type": "execute_result"
    }
   ],
   "source": [
    "# Numerical data ttransformation\n",
    "X_test_num_transformed=pd.DataFrame(std_scaler.transform(X_test_num),\n",
    "                                   columns=std_scaler.get_feature_names_out(),\n",
    "                                   index=X_test_num.index)\n",
    "\n",
    "X_test_cat_transformed = pd.DataFrame(ordinal_encoder.transform(X_test_cat),\n",
    "                                      columns=ordinal_encoder.get_feature_names_out(),\n",
    "                                     index=X_test_cat.index)\n",
    "\n",
    "X_test_transformed = pd.concat([X_test_num_transformed,X_test_cat_transformed],axis=1)\n",
    "X_test_transformed.head()"
   ]
  },
  {
   "cell_type": "code",
   "execution_count": 155,
   "id": "76206954",
   "metadata": {},
   "outputs": [
    {
     "name": "stdout",
     "output_type": "stream",
     "text": [
      "Mean Absolute Error: 2054129.5510670645\n",
      "CPU times: total: 0 ns\n",
      "Wall time: 12.3 ms\n"
     ]
    }
   ],
   "source": [
    "%%time\n",
    "from sklearn.linear_model import LinearRegression\n",
    "from sklearn import metrics\n",
    "\n",
    "linear_regressor = LinearRegression()\n",
    "linear_regressor.fit(X_train_transformed,y_train)\n",
    "\n",
    "y_test_predicted=linear_regressor.predict(X_test_transformed)\n",
    "error=metrics.mean_absolute_error(y_test, y_test_predicted)\n",
    "print(\"Mean Absolute Error:\", error)\n"
   ]
  },
  {
   "cell_type": "code",
   "execution_count": 156,
   "id": "65657ec4",
   "metadata": {},
   "outputs": [
    {
     "name": "stdout",
     "output_type": "stream",
     "text": [
      "Mean Absolute Error: 1134714.9826319567\n",
      "CPU times: total: 78.1 ms\n",
      "Wall time: 121 ms\n"
     ]
    }
   ],
   "source": [
    "%%time\n",
    "from sklearn.tree import DecisionTreeRegressor\n",
    "\n",
    "dt_regressor=DecisionTreeRegressor()\n",
    "dt_regressor.fit(X_train_transformed,y_train)\n",
    "\n",
    "y_test_predicted = dt_regressor.predict(X_test_transformed)\n",
    "error = metrics.mean_absolute_error(y_test, y_test_predicted)\n",
    "print(\"Mean Absolute Error:\",error)\n"
   ]
  },
  {
   "cell_type": "code",
   "execution_count": 157,
   "id": "1ae9ebfb",
   "metadata": {},
   "outputs": [
    {
     "data": {
      "text/plain": [
       "<Axes: >"
      ]
     },
     "execution_count": 157,
     "metadata": {},
     "output_type": "execute_result"
    },
    {
     "data": {
      "image/png": "[encoded data removed]",
      "text/plain": [
       "<Figure size 640x480 with 1 Axes>"
      ]
     },
     "metadata": {},
     "output_type": "display_data"
    }
   ],
   "source": [
    "import seaborn as sns\n",
    "sns.barplot(x=dt_regressor.feature_importances_, y=X_train.columns)"
   ]
  },
  {
   "cell_type": "code",
   "execution_count": 164,
   "id": "a268de25",
   "metadata": {},
   "outputs": [
    {
     "data": {
      "image/png": "[encoded data removed]",
      "text/plain": [
       "<Figure size 1000x800 with 1 Axes>"
      ]
     },
     "metadata": {},
     "output_type": "display_data"
    }
   ],
   "source": [
    "importances_df = importances_df.sort_values(by='Importance', ascending=False)\n",
    "\n",
    "# Pie chart\n",
    "plt.figure(figsize=(10, 8))\n",
    "plt.pie(importances_df['Importance'], labels=importances_df['Feature'], autopct='%1.1f%%', startangle=140, colors=plt.cm.viridis(importances_df['Importance'] / importances_df['Importance'].max()))\n",
    "plt.title('Feature Importances')\n",
    "plt.show()"
   ]
  },
  {
   "cell_type": "code",
   "execution_count": null,
   "id": "133b4a75",
   "metadata": {},
   "outputs": [],
   "source": []
  }
 ],
 "metadata": {
  "kernelspec": {
   "display_name": "Python 3 (ipykernel)",
   "language": "python",
   "name": "python3"
  },
  "language_info": {
   "codemirror_mode": {
    "name": "ipython",
    "version": 3
   },
   "file_extension": ".py",
   "mimetype": "text/x-python",
   "name": "python",
   "nbconvert_exporter": "python",
   "pygments_lexer": "ipython3",
   "version": "3.11.7"
  }
 },
 "nbformat": 4,
 "nbformat_minor": 5
}
