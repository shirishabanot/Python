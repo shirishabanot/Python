{
 "cells": [
  {
   "cell_type": "markdown",
   "id": "4621601f",
   "metadata": {},
   "source": [
    "### Q1. Take input from the user. Write a function that stutters that word as if someone is struggling to read it. The first two letters are repeated twice with an ellipsis ... and space after each, and then the word is pronounced with a question mark ?.\n",
    "\n",
    "**Examples:**\n",
    "\n",
    "stutter(\"incredible\") **➞ Output:**  \"in... in... incredible?\"\n",
    "\n",
    "stutter(\"enthusiastic\") **➞ Output:** \"en... en... enthusiastic?\"\n",
    "\n",
    "stutter(\"outstanding\") **➞ Output:** \"ou... ou... outstanding?\"\n",
    "\n",
    "**Hint :** Assume all input is in lower case and at least two characters long.\n"
   ]
  },
  {
   "cell_type": "code",
   "execution_count": 23,
   "id": "cc43434c",
   "metadata": {},
   "outputs": [
    {
     "name": "stdout",
     "output_type": "stream",
     "text": [
      "in... in... incredible?\n",
      "en... en... enthusiastic?\n",
      "ou... ou... outstanding?\n"
     ]
    }
   ],
   "source": [
    "#code here\n",
    "def stutter(names):\n",
    "    words = names[:2]\n",
    "    stuttered = f\"{words}... {words}... \"\n",
    "    result = f\"{stuttered}{names}?\"\n",
    "    \n",
    "    return result\n",
    "\n",
    "print(stutter(\"incredible\"))  \n",
    "print(stutter(\"enthusiastic\"))  \n",
    "print(stutter(\"outstanding\"))  \n"
   ]
  },
  {
   "cell_type": "code",
   "execution_count": 3,
   "id": "029c6fb0",
   "metadata": {},
   "outputs": [
    {
     "name": "stdout",
     "output_type": "stream",
     "text": [
      "in... in... incredible?\n",
      "en... en... enthusiastic?\n",
      "ou... ou... outstanding?\n"
     ]
    }
   ],
   "source": [
    "stutter(\"incredible\") \n",
    "stutter(\"enthusiastic\") \n",
    "stutter(\"outstanding\") \n",
    "\n",
    "#Expected Output:"
   ]
  },
  {
   "cell_type": "markdown",
   "id": "4114af0c",
   "metadata": {},
   "source": []
  },
  {
   "cell_type": "markdown",
   "id": "9b58af16",
   "metadata": {},
   "source": [
    "### Q2. Create a function that replaces all the vowels in a string with a specified character.   \n",
    "\n",
    "**Examples:**\n",
    "\n",
    "replace_vowels(\"the aardvark\", \"#\") **➞ Output:** `\"th# ##rdv#rk\"`\n",
    "\n",
    "replace_vowels(\"minnie mouse\", \"?\") **➞ Output:** `\"m?nn?? m??s?\"`\n",
    "\n",
    "replace_vowels(\"shakespeare\", \"*\") **➞ Output:** `\"sh*k*sp**r*\"`\n"
   ]
  },
  {
   "cell_type": "code",
   "execution_count": 24,
   "id": "f6befcfc",
   "metadata": {},
   "outputs": [
    {
     "name": "stdout",
     "output_type": "stream",
     "text": [
      "th# ##rdv#rk\n",
      "m?nn?? m??s?\n",
      "sh*k*sp**r*\n"
     ]
    }
   ],
   "source": [
    "#code here\n",
    "\n",
    "def replace_vowels(text, replace):\n",
    "    trans= str.maketrans(\"aeiou\", replace * 5)\n",
    "    result = text.translate(trans)\n",
    "    \n",
    "    return result\n",
    "\n",
    "print(replace_vowels(\"the aardvark\", \"#\"))  \n",
    "print(replace_vowels(\"minnie mouse\", \"?\"))  \n",
    "print(replace_vowels(\"shakespeare\", \"*\"))  \n",
    "\n"
   ]
  },
  {
   "cell_type": "code",
   "execution_count": 10,
   "id": "fb8b50d0",
   "metadata": {},
   "outputs": [
    {
     "name": "stdout",
     "output_type": "stream",
     "text": [
      "th# ##rdv#rk\n",
      "m?nn?? m??s?\n",
      "sh*k*sp**r*\n"
     ]
    }
   ],
   "source": [
    "replace_vowels(\"the aardvark\", \"#\") \n",
    "replace_vowels(\"minnie mouse\", \"?\") \n",
    "replace_vowels(\"shakespeare\", \"*\") \n",
    "\n",
    "#Expected Output:"
   ]
  },
  {
   "cell_type": "markdown",
   "id": "ffe82cb4",
   "metadata": {},
   "source": []
  },
  {
   "cell_type": "markdown",
   "id": "c6d93fa5",
   "metadata": {},
   "source": []
  },
  {
   "cell_type": "markdown",
   "id": "5da6a1ed",
   "metadata": {},
   "source": [
    "### Q3. Write a Python program to create a class representing a shopping cart. Include methods for adding and removing items, and calculating the total price. The expected output of the program is given below:\n"
   ]
  },
  {
   "cell_type": "code",
   "execution_count": 2,
   "id": "f62a97b8",
   "metadata": {},
   "outputs": [
    {
     "name": "stdout",
     "output_type": "stream",
     "text": [
      "Current Items in Cart:\n",
      "PAPAYA - 100\n",
      "GUAVA - 200\n",
      "ORANGE - 150\n",
      "Total Quantity: 450\n",
      "\n",
      "Updated Items in Cart after removing ORANGE:\n",
      "Current Items in Cart:\n",
      "PAPAYA - 100\n",
      "GUAVA - 200\n",
      "Total Quantity: 300\n"
     ]
    }
   ],
   "source": [
    "#code here\n",
    "\n",
    "class ShoppingCart:\n",
    "    def __init__(self):\n",
    "        self.cart = {}\n",
    "\n",
    "    def add_item(self, item_name, price):\n",
    "        self.cart[item_name.upper()] = price\n",
    "\n",
    "    def remove_item(self, item_name):\n",
    "        item_name = item_name.upper()\n",
    "        if item_name in self.cart:\n",
    "            del self.cart[item_name]\n",
    "        else:\n",
    "            print(f\"{item_name} not found in cart.\")\n",
    "\n",
    "    def calculate_total(self):\n",
    "        return sum(self.cart.values())\n",
    "\n",
    "    def display_cart(self):\n",
    "        print(\"Current Items in Cart:\")\n",
    "        for item, price in self.cart.items():\n",
    "            print(f\"{item} - {price}\")\n",
    "        print(f\"Total Quantity: {self.calculate_total()}\")\n",
    "\n",
    "\n",
    "shopping_cart = ShoppingCart()\n",
    "\n",
    "\n",
    "shopping_cart.add_item(\"Papaya\", 100)\n",
    "shopping_cart.add_item(\"Guava\", 200)\n",
    "shopping_cart.add_item(\"Orange\", 150)\n",
    "\n",
    "\n",
    "shopping_cart.display_cart()\n",
    "\n",
    "\n",
    "item_to_remove = input(\"\\nEnter which item to remove: \")\n",
    "shopping_cart.remove_item(item_to_remove)\n",
    "\n",
    "\n",
    "print(\"\\nUpdated Items in Cart after removing {}:\".format(item_to_remove.upper()))\n",
    "shopping_cart.display_cart()  "
   ]
  },
  {
   "cell_type": "code",
   "execution_count": 18,
   "id": "1b1c0f4f",
   "metadata": {},
   "outputs": [
    {
     "name": "stdout",
     "output_type": "stream",
     "text": [
      "Current Items in Cart:\n",
      "PAPAYA - 100\n",
      "GUAVA - 200\n",
      "ORANGE - 150\n",
      "Total Quantity: 450 \n",
      "\n",
      "Enter which item to remove: orange\n",
      "\n",
      "Updated Items in Cart after removing ORANGE:\n",
      "PAPAYA - 100\n",
      "GUAVA - 200\n",
      "Total Quantity: 300\n"
     ]
    }
   ],
   "source": [
    "#Expected Output:"
   ]
  },
  {
   "cell_type": "markdown",
   "id": "e10608f1",
   "metadata": {},
   "source": []
  },
  {
   "cell_type": "markdown",
   "id": "e9076888",
   "metadata": {},
   "source": [
    "### Q4. WAP to print the following pattern:"
   ]
  },
  {
   "cell_type": "code",
   "execution_count": 1,
   "id": "b6b4a2e9",
   "metadata": {},
   "outputs": [
    {
     "name": "stdout",
     "output_type": "stream",
     "text": [
      "1\n",
      "3 3 3\n",
      "5 5 5 5 5\n",
      "7 7 7 7 7 7 7\n"
     ]
    }
   ],
   "source": [
    "#code here\n",
    "def print_pattern(n):\n",
    "   \n",
    "    for i in range(1, n + 1, 2):\n",
    "       \n",
    "        print(\" \".join([str(i)] * i))\n",
    "\n",
    "number = int(input(\"Enter your number: \"))\n",
    "\n",
    "print_pattern(number)\n"
   ]
  },
  {
   "cell_type": "code",
   "execution_count": 26,
   "id": "dba74a4f",
   "metadata": {},
   "outputs": [],
   "source": [
    "#Expected Output:"
   ]
  },
  {
   "cell_type": "code",
   "execution_count": null,
   "id": "9d2210ca",
   "metadata": {},
   "outputs": [],
   "source": []
  }
 ],
 "metadata": {
  "kernelspec": {
   "display_name": "Python 3 (ipykernel)",
   "language": "python",
   "name": "python3"
  },
  "language_info": {
   "codemirror_mode": {
    "name": "ipython",
    "version": 3
   },
   "file_extension": ".py",
   "mimetype": "text/x-python",
   "name": "python",
   "nbconvert_exporter": "python",
   "pygments_lexer": "ipython3",
   "version": "3.12.3"
  }
 },
 "nbformat": 4,
 "nbformat_minor": 5
}
