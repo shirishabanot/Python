{
 "cells": [
  {
   "cell_type": "markdown",
   "id": "b880ed44-b7c7-4237-92e9-bd62fd3864ab",
   "metadata": {},
   "source": [
    "link  https://www.kaggle.com/datasets/devildyno/computer-science-students-career-prediction"
   ]
  },
  {
   "cell_type": "code",
   "execution_count": 1,
   "id": "c706d4ce-d725-4ba8-9af4-a611f7451110",
   "metadata": {},
   "outputs": [],
   "source": [
    "import pandas as pd\n",
    "df = pd.read_csv(r\"C:\\Users\\hp\\Downloads\\archive (3)\\cs_students.csv\")"
   ]
  },
  {
   "cell_type": "code",
   "execution_count": 2,
   "id": "bc972b16-bb8b-41e5-b262-08de13e1d0a2",
   "metadata": {},
   "outputs": [
    {
     "data": {
      "text/html": [
       "<div>\n",
       "<style scoped>\n",
       "    .dataframe tbody tr th:only-of-type {\n",
       "        vertical-align: middle;\n",
       "    }\n",
       "\n",
       "    .dataframe tbody tr th {\n",
       "        vertical-align: top;\n",
       "    }\n",
       "\n",
       "    .dataframe thead th {\n",
       "        text-align: right;\n",
       "    }\n",
       "</style>\n",
       "<table border=\"1\" class=\"dataframe\">\n",
       "  <thead>\n",
       "    <tr style=\"text-align: right;\">\n",
       "      <th></th>\n",
       "      <th>Student ID</th>\n",
       "      <th>Name</th>\n",
       "      <th>Gender</th>\n",
       "      <th>Age</th>\n",
       "      <th>GPA</th>\n",
       "      <th>Major</th>\n",
       "      <th>Interested Domain</th>\n",
       "      <th>Projects</th>\n",
       "      <th>Future Career</th>\n",
       "      <th>Python</th>\n",
       "      <th>SQL</th>\n",
       "      <th>Java</th>\n",
       "    </tr>\n",
       "  </thead>\n",
       "  <tbody>\n",
       "    <tr>\n",
       "      <th>0</th>\n",
       "      <td>1</td>\n",
       "      <td>John Smith</td>\n",
       "      <td>Male</td>\n",
       "      <td>21</td>\n",
       "      <td>3.5</td>\n",
       "      <td>Computer Science</td>\n",
       "      <td>Artificial Intelligence</td>\n",
       "      <td>Chatbot Development</td>\n",
       "      <td>Machine Learning Researcher</td>\n",
       "      <td>Strong</td>\n",
       "      <td>Strong</td>\n",
       "      <td>Weak</td>\n",
       "    </tr>\n",
       "    <tr>\n",
       "      <th>1</th>\n",
       "      <td>2</td>\n",
       "      <td>Alice Johnson</td>\n",
       "      <td>Female</td>\n",
       "      <td>20</td>\n",
       "      <td>3.2</td>\n",
       "      <td>Computer Science</td>\n",
       "      <td>Data Science</td>\n",
       "      <td>Data Analytics</td>\n",
       "      <td>Data Scientist</td>\n",
       "      <td>Average</td>\n",
       "      <td>Strong</td>\n",
       "      <td>Weak</td>\n",
       "    </tr>\n",
       "    <tr>\n",
       "      <th>2</th>\n",
       "      <td>3</td>\n",
       "      <td>Robert Davis</td>\n",
       "      <td>Male</td>\n",
       "      <td>22</td>\n",
       "      <td>3.8</td>\n",
       "      <td>Computer Science</td>\n",
       "      <td>Software Development</td>\n",
       "      <td>E-commerce Website</td>\n",
       "      <td>Software Engineer</td>\n",
       "      <td>Strong</td>\n",
       "      <td>Strong</td>\n",
       "      <td>Average</td>\n",
       "    </tr>\n",
       "    <tr>\n",
       "      <th>3</th>\n",
       "      <td>4</td>\n",
       "      <td>Emily Wilson</td>\n",
       "      <td>Female</td>\n",
       "      <td>21</td>\n",
       "      <td>3.7</td>\n",
       "      <td>Computer Science</td>\n",
       "      <td>Web Development</td>\n",
       "      <td>Full-Stack Web App</td>\n",
       "      <td>Web Developer</td>\n",
       "      <td>Weak</td>\n",
       "      <td>Strong</td>\n",
       "      <td>Strong</td>\n",
       "    </tr>\n",
       "    <tr>\n",
       "      <th>4</th>\n",
       "      <td>5</td>\n",
       "      <td>Michael Brown</td>\n",
       "      <td>Male</td>\n",
       "      <td>23</td>\n",
       "      <td>3.4</td>\n",
       "      <td>Computer Science</td>\n",
       "      <td>Cybersecurity</td>\n",
       "      <td>Network Security</td>\n",
       "      <td>Information Security Analyst</td>\n",
       "      <td>Average</td>\n",
       "      <td>Weak</td>\n",
       "      <td>Strong</td>\n",
       "    </tr>\n",
       "    <tr>\n",
       "      <th>...</th>\n",
       "      <td>...</td>\n",
       "      <td>...</td>\n",
       "      <td>...</td>\n",
       "      <td>...</td>\n",
       "      <td>...</td>\n",
       "      <td>...</td>\n",
       "      <td>...</td>\n",
       "      <td>...</td>\n",
       "      <td>...</td>\n",
       "      <td>...</td>\n",
       "      <td>...</td>\n",
       "      <td>...</td>\n",
       "    </tr>\n",
       "    <tr>\n",
       "      <th>175</th>\n",
       "      <td>176</td>\n",
       "      <td>Elijah Davis</td>\n",
       "      <td>Male</td>\n",
       "      <td>22</td>\n",
       "      <td>3.7</td>\n",
       "      <td>Computer Science</td>\n",
       "      <td>Web Development</td>\n",
       "      <td>Full-Stack Web App</td>\n",
       "      <td>Web Developer</td>\n",
       "      <td>Weak</td>\n",
       "      <td>Strong</td>\n",
       "      <td>Strong</td>\n",
       "    </tr>\n",
       "    <tr>\n",
       "      <th>176</th>\n",
       "      <td>177</td>\n",
       "      <td>Emma Johnson</td>\n",
       "      <td>Female</td>\n",
       "      <td>20</td>\n",
       "      <td>3.6</td>\n",
       "      <td>Computer Science</td>\n",
       "      <td>Cybersecurity</td>\n",
       "      <td>Security Auditing</td>\n",
       "      <td>Information Security Analyst</td>\n",
       "      <td>Strong</td>\n",
       "      <td>Average</td>\n",
       "      <td>Weak</td>\n",
       "    </tr>\n",
       "    <tr>\n",
       "      <th>177</th>\n",
       "      <td>178</td>\n",
       "      <td>Liam Wilson</td>\n",
       "      <td>Male</td>\n",
       "      <td>21</td>\n",
       "      <td>3.4</td>\n",
       "      <td>Computer Science</td>\n",
       "      <td>Machine Learning</td>\n",
       "      <td>Natural Language Processing</td>\n",
       "      <td>Machine Learning Engineer</td>\n",
       "      <td>Strong</td>\n",
       "      <td>Average</td>\n",
       "      <td>Weak</td>\n",
       "    </tr>\n",
       "    <tr>\n",
       "      <th>178</th>\n",
       "      <td>179</td>\n",
       "      <td>Sophia Johnson</td>\n",
       "      <td>Female</td>\n",
       "      <td>22</td>\n",
       "      <td>3.5</td>\n",
       "      <td>Computer Science</td>\n",
       "      <td>Database Management</td>\n",
       "      <td>SQL Database Administration</td>\n",
       "      <td>Database Administrator</td>\n",
       "      <td>Weak</td>\n",
       "      <td>Strong</td>\n",
       "      <td>Average</td>\n",
       "    </tr>\n",
       "    <tr>\n",
       "      <th>179</th>\n",
       "      <td>180</td>\n",
       "      <td>Michael Brown</td>\n",
       "      <td>Male</td>\n",
       "      <td>23</td>\n",
       "      <td>3.7</td>\n",
       "      <td>Computer Science</td>\n",
       "      <td>Cloud Computing</td>\n",
       "      <td>Cloud Solution Architecture</td>\n",
       "      <td>Cloud Solutions Architect</td>\n",
       "      <td>Strong</td>\n",
       "      <td>Strong</td>\n",
       "      <td>Weak</td>\n",
       "    </tr>\n",
       "  </tbody>\n",
       "</table>\n",
       "<p>180 rows × 12 columns</p>\n",
       "</div>"
      ],
      "text/plain": [
       "     Student ID            Name  Gender  Age  GPA             Major  \\\n",
       "0             1      John Smith    Male   21  3.5  Computer Science   \n",
       "1             2   Alice Johnson  Female   20  3.2  Computer Science   \n",
       "2             3    Robert Davis    Male   22  3.8  Computer Science   \n",
       "3             4    Emily Wilson  Female   21  3.7  Computer Science   \n",
       "4             5   Michael Brown    Male   23  3.4  Computer Science   \n",
       "..          ...             ...     ...  ...  ...               ...   \n",
       "175         176    Elijah Davis    Male   22  3.7  Computer Science   \n",
       "176         177    Emma Johnson  Female   20  3.6  Computer Science   \n",
       "177         178     Liam Wilson    Male   21  3.4  Computer Science   \n",
       "178         179  Sophia Johnson  Female   22  3.5  Computer Science   \n",
       "179         180   Michael Brown    Male   23  3.7  Computer Science   \n",
       "\n",
       "           Interested Domain                     Projects  \\\n",
       "0    Artificial Intelligence          Chatbot Development   \n",
       "1               Data Science               Data Analytics   \n",
       "2       Software Development           E-commerce Website   \n",
       "3            Web Development           Full-Stack Web App   \n",
       "4              Cybersecurity             Network Security   \n",
       "..                       ...                          ...   \n",
       "175          Web Development           Full-Stack Web App   \n",
       "176            Cybersecurity            Security Auditing   \n",
       "177         Machine Learning  Natural Language Processing   \n",
       "178      Database Management  SQL Database Administration   \n",
       "179          Cloud Computing  Cloud Solution Architecture   \n",
       "\n",
       "                    Future Career   Python      SQL     Java  \n",
       "0     Machine Learning Researcher   Strong   Strong     Weak  \n",
       "1                  Data Scientist  Average   Strong     Weak  \n",
       "2               Software Engineer   Strong   Strong  Average  \n",
       "3                   Web Developer     Weak   Strong   Strong  \n",
       "4    Information Security Analyst  Average     Weak   Strong  \n",
       "..                            ...      ...      ...      ...  \n",
       "175                 Web Developer     Weak   Strong   Strong  \n",
       "176  Information Security Analyst   Strong  Average     Weak  \n",
       "177     Machine Learning Engineer   Strong  Average     Weak  \n",
       "178        Database Administrator     Weak   Strong  Average  \n",
       "179     Cloud Solutions Architect   Strong   Strong     Weak  \n",
       "\n",
       "[180 rows x 12 columns]"
      ]
     },
     "execution_count": 2,
     "metadata": {},
     "output_type": "execute_result"
    }
   ],
   "source": [
    "df"
   ]
  },
  {
   "cell_type": "markdown",
   "id": "a187462d-10ab-4ed9-be07-e7596fda049a",
   "metadata": {},
   "source": [
    "1. What is the average GPA of students who are interested in Data Science?\n",
    "2. What is the percentage distribution of students by gender?\n",
    "3. How many students have \"Strong\" Python skills and are interested in Software Development?\n",
    "4. What is the distribution of students' future careers across different majors?\n",
    "5. What is the average age of students with \"Strong\" SQL skills?\n",
    "6. Who are the students with a GPA above 3.8 and \"Strong\" Java skills?\n",
    "7. How many students are interested in Cybersecurity and have worked on Network Security projects?\n",
    "8. What is the correlation between age and GPA among students?\n",
    "9. How many students have \"Weak\" skills in both Python and Java?\n",
    "10. What are the top 3 most common projects worked on by students?\n",
    "11. What is the average GPA of students interested in Artificial Intelligence?\n",
    "12. What is the percentage of students aiming to become Software Engineers?\n",
    "13. What is the distribution of Python skills across different future careers?\n",
    "14. How many students have \"Strong\" skills in all three programming languages (Python, SQL, Java)?\n",
    "15. What is the most popular interested domain for students with a GPA below 3.0?\n",
    "16. Who are the students with \"Weak\" SQL skills and want to pursue a career in Data Science?\n",
    "17. What is the gender distribution of students with a GPA above 3.5?\n",
    "18. How many students aged 21 and above are interested in Web Development?\n",
    "19. Which future career is most common among female students?\n",
    "20. What is the average GPA of students aiming to work in Machine Learning?\n"
   ]
  },
  {
   "cell_type": "code",
   "execution_count": 19,
   "id": "2b4bc548",
   "metadata": {},
   "outputs": [
    {
     "data": {
      "text/plain": [
       "Index(['Student ID', 'Name', 'Gender', 'Age', 'GPA', 'Major',\n",
       "       'Interested Domain', 'Projects', 'Future Career', 'Python', 'SQL',\n",
       "       'Java'],\n",
       "      dtype='object')"
      ]
     },
     "execution_count": 19,
     "metadata": {},
     "output_type": "execute_result"
    }
   ],
   "source": [
    "df.columns"
   ]
  },
  {
   "cell_type": "markdown",
   "id": "3bd420c4",
   "metadata": {},
   "source": [
    "### 1. What is the average GPA of students who are interested in Data Science?"
   ]
  },
  {
   "cell_type": "code",
   "execution_count": 20,
   "id": "7eeb5b34",
   "metadata": {},
   "outputs": [
    {
     "data": {
      "text/plain": [
       "3.4615384615384617"
      ]
     },
     "execution_count": 20,
     "metadata": {},
     "output_type": "execute_result"
    }
   ],
   "source": [
    "data = df[df['Interested Domain'] == 'Data Science']['GPA'].mean()\n",
    "data"
   ]
  },
  {
   "cell_type": "markdown",
   "id": "42e4af5d",
   "metadata": {},
   "source": [
    "### 2.What is the percentage distribution of students by gender?"
   ]
  },
  {
   "cell_type": "code",
   "execution_count": 21,
   "id": "65cab5fb",
   "metadata": {},
   "outputs": [
    {
     "data": {
      "text/plain": [
       "Gender\n",
       "Male      56.666667\n",
       "Female    43.333333\n",
       "Name: proportion, dtype: float64"
      ]
     },
     "execution_count": 21,
     "metadata": {},
     "output_type": "execute_result"
    }
   ],
   "source": [
    "data=df[\"Gender\"].value_counts(normalize=True)*100\n",
    "data"
   ]
  },
  {
   "cell_type": "code",
   "execution_count": 22,
   "id": "12f8d53d",
   "metadata": {},
   "outputs": [
    {
     "data": {
      "text/plain": [
       "Index(['Student ID', 'Name', 'Gender', 'Age', 'GPA', 'Major',\n",
       "       'Interested Domain', 'Projects', 'Future Career', 'Python', 'SQL',\n",
       "       'Java'],\n",
       "      dtype='object')"
      ]
     },
     "execution_count": 22,
     "metadata": {},
     "output_type": "execute_result"
    }
   ],
   "source": [
    "df.columns"
   ]
  },
  {
   "cell_type": "markdown",
   "id": "ac5d4612",
   "metadata": {},
   "source": [
    "### 3.How many students have \"Strong\" Python skills and are interested in Software Development?"
   ]
  },
  {
   "cell_type": "code",
   "execution_count": 23,
   "id": "34bda14a",
   "metadata": {},
   "outputs": [
    {
     "data": {
      "text/plain": [
       "5"
      ]
     },
     "execution_count": 23,
     "metadata": {},
     "output_type": "execute_result"
    }
   ],
   "source": [
    "data=df[(df[\"Python\"]==\"Strong\")&(df[\"Interested Domain\"]==\"Software Development\")]\n",
    "data.shape[0]"
   ]
  },
  {
   "cell_type": "markdown",
   "id": "b25e7b9e",
   "metadata": {},
   "source": [
    "### 4.What is the distribution of students' future careers across different majors?"
   ]
  },
  {
   "cell_type": "code",
   "execution_count": 24,
   "id": "ddc7faf2",
   "metadata": {},
   "outputs": [
    {
     "data": {
      "text/plain": [
       "Future Career\n",
       "Web Developer                   10.555556\n",
       "Information Security Analyst     9.444444\n",
       "Mobile App Developer             9.444444\n",
       "Database Administrator           8.888889\n",
       "Cloud Solutions Architect        8.888889\n",
       "Software Engineer                7.777778\n",
       "Machine Learning Engineer        7.222222\n",
       "NLP Research Scientist           6.111111\n",
       "Graphics Programmer              5.000000\n",
       "Data Scientist                   4.444444\n",
       "AI Researcher                    3.333333\n",
       "Data Analyst                     3.333333\n",
       "Game Developer                   2.222222\n",
       "UX Designer                      1.111111\n",
       "Bioinformatician                 1.111111\n",
       "Healthcare IT Specialist         1.111111\n",
       "Quantum Computing Researcher     1.111111\n",
       "Geospatial Analyst               0.555556\n",
       "Data Privacy Specialist          0.555556\n",
       "SEO Specialist                   0.555556\n",
       "Distributed Systems Engineer     0.555556\n",
       "Blockchain Engineer              0.555556\n",
       "VR Developer                     0.555556\n",
       "Digital Forensics Specialist     0.555556\n",
       "Machine Learning Researcher      0.555556\n",
       "NLP Engineer                     0.555556\n",
       "IoT Developer                    0.555556\n",
       "DevOps Engineer                  0.555556\n",
       "Computer Vision Engineer         0.555556\n",
       "Robotics Engineer                0.555556\n",
       "Embedded Software Engineer       0.555556\n",
       "Security Analyst                 0.555556\n",
       "Ethical Hacker                   0.555556\n",
       "Name: proportion, dtype: float64"
      ]
     },
     "execution_count": 24,
     "metadata": {},
     "output_type": "execute_result"
    }
   ],
   "source": [
    "data=df['Future Career'].value_counts(normalize=True) * 100\n",
    "data"
   ]
  },
  {
   "cell_type": "markdown",
   "id": "0490d0ad",
   "metadata": {},
   "source": [
    "### 5.What is the average age of students with \"Strong\" SQL skills?"
   ]
  },
  {
   "cell_type": "code",
   "execution_count": 25,
   "id": "ec13230c",
   "metadata": {},
   "outputs": [
    {
     "data": {
      "text/plain": [
       "22.253164556962027"
      ]
     },
     "execution_count": 25,
     "metadata": {},
     "output_type": "execute_result"
    }
   ],
   "source": [
    "data=df[df['SQL'] == 'Strong']['Age'].mean()\n",
    "data"
   ]
  },
  {
   "cell_type": "code",
   "execution_count": null,
   "id": "474efd75",
   "metadata": {},
   "outputs": [],
   "source": []
  },
  {
   "cell_type": "markdown",
   "id": "7de51de1",
   "metadata": {},
   "source": [
    "### 6.Who are the students with a GPA above 3.8 and \"Strong\" Java skills?"
   ]
  },
  {
   "cell_type": "code",
   "execution_count": 10,
   "id": "ae8e8de8",
   "metadata": {},
   "outputs": [
    {
     "data": {
      "text/plain": [
       "Series([], Name: count, dtype: int64)"
      ]
     },
     "execution_count": 10,
     "metadata": {},
     "output_type": "execute_result"
    }
   ],
   "source": [
    "df[df[\"GPA\"]==\"Strong\"][\"Java\"].value_counts()"
   ]
  },
  {
   "cell_type": "markdown",
   "id": "f168ced8",
   "metadata": {},
   "source": [
    "### 7.How many students are interested in Cybersecurity and have worked on Network Security projects?"
   ]
  },
  {
   "cell_type": "code",
   "execution_count": 11,
   "id": "9202a479",
   "metadata": {},
   "outputs": [
    {
     "data": {
      "text/plain": [
       "0"
      ]
     },
     "execution_count": 11,
     "metadata": {},
     "output_type": "execute_result"
    }
   ],
   "source": [
    "data=df[(df[\"Interested Domain\"]==\"Cybersecurity\")&(df[\"Future Career\"]==\"Network Security projects\")]\n",
    "data.shape[0]"
   ]
  },
  {
   "cell_type": "code",
   "execution_count": 12,
   "id": "3534e442",
   "metadata": {},
   "outputs": [
    {
     "data": {
      "text/plain": [
       "Index(['Student ID', 'Name', 'Gender', 'Age', 'GPA', 'Major',\n",
       "       'Interested Domain', 'Projects', 'Future Career', 'Python', 'SQL',\n",
       "       'Java'],\n",
       "      dtype='object')"
      ]
     },
     "execution_count": 12,
     "metadata": {},
     "output_type": "execute_result"
    }
   ],
   "source": [
    "df.columns"
   ]
  },
  {
   "cell_type": "markdown",
   "id": "66aaaa13",
   "metadata": {},
   "source": [
    "### 8.What is the correlation between age and GPA among students?"
   ]
  },
  {
   "cell_type": "code",
   "execution_count": 13,
   "id": "0a5f19da",
   "metadata": {},
   "outputs": [
    {
     "data": {
      "text/plain": [
       "0.2029246915972198"
      ]
     },
     "execution_count": 13,
     "metadata": {},
     "output_type": "execute_result"
    }
   ],
   "source": [
    "df[['Age','GPA']].corr().loc['Age','GPA']"
   ]
  },
  {
   "cell_type": "markdown",
   "id": "5e18d23a",
   "metadata": {},
   "source": [
    "### 9.How many students have \"Weak\" skills in both Python and Java?"
   ]
  },
  {
   "cell_type": "code",
   "execution_count": 14,
   "id": "5784a558",
   "metadata": {},
   "outputs": [
    {
     "data": {
      "text/plain": [
       "(0, 12)"
      ]
     },
     "execution_count": 14,
     "metadata": {},
     "output_type": "execute_result"
    }
   ],
   "source": [
    "data=df[(df[\"Python\"]==\"Weak\")&(df[\"Java\"]==\"Weak\")]\n",
    "data.shape"
   ]
  },
  {
   "cell_type": "markdown",
   "id": "22e7db67",
   "metadata": {},
   "source": [
    "### 10.What are the top 3 most common projects worked on by students?"
   ]
  },
  {
   "cell_type": "code",
   "execution_count": 15,
   "id": "247f3f64",
   "metadata": {},
   "outputs": [
    {
     "data": {
      "text/plain": [
       "Natural Language Processing    14\n",
       "Network Security               14\n",
       "E-commerce Website             13\n",
       "Name: count, dtype: int64"
      ]
     },
     "execution_count": 15,
     "metadata": {},
     "output_type": "execute_result"
    }
   ],
   "source": [
    "data=df['Projects'].str.split(', ', expand=True).stack()\n",
    "data.value_counts().head(3)"
   ]
  },
  {
   "cell_type": "code",
   "execution_count": 16,
   "id": "255fcda8",
   "metadata": {},
   "outputs": [
    {
     "data": {
      "text/plain": [
       "Index(['Student ID', 'Name', 'Gender', 'Age', 'GPA', 'Major',\n",
       "       'Interested Domain', 'Projects', 'Future Career', 'Python', 'SQL',\n",
       "       'Java'],\n",
       "      dtype='object')"
      ]
     },
     "execution_count": 16,
     "metadata": {},
     "output_type": "execute_result"
    }
   ],
   "source": [
    "df.columns"
   ]
  },
  {
   "cell_type": "markdown",
   "id": "e72ab823",
   "metadata": {},
   "source": [
    "### 11.What is the average GPA of students interested in Artificial Intelligence?"
   ]
  },
  {
   "cell_type": "code",
   "execution_count": 17,
   "id": "eb35f883",
   "metadata": {},
   "outputs": [
    {
     "data": {
      "text/plain": [
       "3.6842105263157894"
      ]
     },
     "execution_count": 17,
     "metadata": {},
     "output_type": "execute_result"
    }
   ],
   "source": [
    "data=df[df['Interested Domain'] == 'Artificial Intelligence']['GPA'].mean()\n",
    "data"
   ]
  },
  {
   "cell_type": "code",
   "execution_count": null,
   "id": "b3cb3122",
   "metadata": {},
   "outputs": [],
   "source": []
  },
  {
   "cell_type": "markdown",
   "id": "56908be7",
   "metadata": {},
   "source": [
    "### 12.What is the percentage of students aiming to become Software Engineers?"
   ]
  },
  {
   "cell_type": "code",
   "execution_count": 18,
   "id": "7fed0533",
   "metadata": {},
   "outputs": [
    {
     "data": {
      "text/plain": [
       "7.777777777777778"
      ]
     },
     "execution_count": 18,
     "metadata": {},
     "output_type": "execute_result"
    }
   ],
   "source": [
    "df[\"Future Career\"].value_counts(normalize=True)[\"Software Engineer\"]*100"
   ]
  },
  {
   "cell_type": "markdown",
   "id": "54a42db6",
   "metadata": {},
   "source": [
    "### 13.What is the distribution of Python skills across different future careers?"
   ]
  },
  {
   "cell_type": "code",
   "execution_count": 26,
   "id": "5d171481",
   "metadata": {},
   "outputs": [],
   "source": [
    "import matplotlib.pyplot as plt"
   ]
  },
  {
   "cell_type": "code",
   "execution_count": 64,
   "id": "b02ec361",
   "metadata": {},
   "outputs": [
    {
     "data": {
      "image/png": "[encoded data removed]",
      "text/plain": [
       "<Figure size 2500x500 with 1 Axes>"
      ]
     },
     "metadata": {},
     "output_type": "display_data"
    }
   ],
   "source": [
    "data=df.groupby('Future Career')['Python'].max()\n",
    "\n",
    "data.plot(kind='bar', figsize=(25, 5))\n",
    "plt.title('Average Python Skills Across Different Future Careers')\n",
    "plt.xlabel('Future Career')\n",
    "plt.ylabel('Average Python Skill Level')\n",
    "plt.xticks(rotation=45)\n",
    "plt.show()"
   ]
  },
  {
   "cell_type": "markdown",
   "id": "2dea6227",
   "metadata": {},
   "source": [
    "### 14.How many students have \"Strong\" skills in all three programming languages (Python, SQL, Java)?"
   ]
  },
  {
   "cell_type": "code",
   "execution_count": 57,
   "id": "22265f5d",
   "metadata": {},
   "outputs": [
    {
     "data": {
      "text/plain": [
       "0"
      ]
     },
     "execution_count": 57,
     "metadata": {},
     "output_type": "execute_result"
    }
   ],
   "source": [
    "skill = {'Strong': 3, 'Moderate': 2, 'Weak': 1}\n",
    "\n",
    "df['Python'] = df['Python'].map(skill)\n",
    "df['SQL'] = df['SQL'].map(skill)\n",
    "df['Java'] = df['Java'].map(skill)\n",
    "\n",
    "std = df[(df['Python'] == 3) & (df['SQL'] == 3) & (df['Java'] == 3)]\n",
    "\n",
    "std = std.shape[0]\n",
    "std\n"
   ]
  },
  {
   "cell_type": "code",
   "execution_count": 60,
   "id": "9be98b95",
   "metadata": {},
   "outputs": [
    {
     "data": {
      "text/plain": [
       "Index(['Student ID', 'Name', 'Gender', 'Age', 'GPA', 'Major',\n",
       "       'Interested Domain', 'Projects', 'Future Career', 'Python', 'SQL',\n",
       "       'Java', 'Python_Skills_Numeric'],\n",
       "      dtype='object')"
      ]
     },
     "execution_count": 60,
     "metadata": {},
     "output_type": "execute_result"
    }
   ],
   "source": [
    "df.columns"
   ]
  },
  {
   "cell_type": "markdown",
   "id": "f0b1bc91",
   "metadata": {},
   "source": [
    "### 15.What is the most popular interested domain for students with a GPA below 3.0?"
   ]
  },
  {
   "cell_type": "code",
   "execution_count": 71,
   "id": "6f4ef5c8",
   "metadata": {},
   "outputs": [
    {
     "name": "stdout",
     "output_type": "stream",
     "text": [
      "No students have a GPA below 3.0 in the dataset.\n"
     ]
    }
   ],
   "source": [
    "data = df[df['GPA'] < 3.0]\n",
    "most_popular = data['Interested Domain'].mode()\n",
    "\n",
    "if len(most_popular) > 0:\n",
    "    print(f\"The most popular interested domain for students with a GPA below 3.0 is: {most_popular[0]}\")\n",
    "else:\n",
    "    print(\"No students have a GPA below 3.0 in the dataset.\")"
   ]
  },
  {
   "cell_type": "markdown",
   "id": "c4a0a064",
   "metadata": {},
   "source": [
    "### 16.Who are the students with \"Weak\" SQL skills and want to pursue a career in Data Science?"
   ]
  },
  {
   "cell_type": "code",
   "execution_count": 77,
   "id": "e2ed364a",
   "metadata": {},
   "outputs": [
    {
     "data": {
      "text/plain": [
       "Student ID               0\n",
       "Name                     0\n",
       "Gender                   0\n",
       "Age                      0\n",
       "GPA                      0\n",
       "Major                    0\n",
       "Interested Domain        0\n",
       "Projects                 0\n",
       "Future Career            0\n",
       "Python                   0\n",
       "SQL                      0\n",
       "Java                     0\n",
       "Python_Skills_Numeric    0\n",
       "dtype: int64"
      ]
     },
     "execution_count": 77,
     "metadata": {},
     "output_type": "execute_result"
    }
   ],
   "source": [
    "df[(df['SQL'] == 'Weak') & (df['Future Career'] == 'Data Science')].count()"
   ]
  },
  {
   "cell_type": "markdown",
   "id": "028982c8",
   "metadata": {},
   "source": [
    "### 17.What is the gender distribution of students with a GPA above 3.5?"
   ]
  },
  {
   "cell_type": "code",
   "execution_count": 79,
   "id": "28612524",
   "metadata": {},
   "outputs": [
    {
     "name": "stdout",
     "output_type": "stream",
     "text": [
      "Gender\n",
      "Male      68\n",
      "Female    49\n",
      "Name: count, dtype: int64\n"
     ]
    }
   ],
   "source": [
    "high_gpa = df[df['GPA'] > 3.5]\n",
    "\n",
    "gender = high_gpa['Gender'].value_counts()\n",
    "\n",
    "print(gender)"
   ]
  },
  {
   "cell_type": "markdown",
   "id": "5be9f601",
   "metadata": {},
   "source": [
    "### 18.How many students aged 21 and above are interested in Web Development?"
   ]
  },
  {
   "cell_type": "code",
   "execution_count": 83,
   "id": "4e88896a",
   "metadata": {},
   "outputs": [
    {
     "data": {
      "text/plain": [
       "17"
      ]
     },
     "execution_count": 83,
     "metadata": {},
     "output_type": "execute_result"
    }
   ],
   "source": [
    "std = df[(df['Age'] >= 21) & (df['Interested Domain'] == 'Web Development')]\n",
    "\n",
    "num = std.shape[0]\n",
    "\n",
    "num"
   ]
  },
  {
   "cell_type": "markdown",
   "id": "ccdd2b72",
   "metadata": {},
   "source": [
    "### 19.Which future career is most common among female students?"
   ]
  },
  {
   "cell_type": "code",
   "execution_count": 85,
   "id": "60e5f6dd",
   "metadata": {},
   "outputs": [
    {
     "data": {
      "text/plain": [
       "'Information Security Analyst'"
      ]
     },
     "execution_count": 85,
     "metadata": {},
     "output_type": "execute_result"
    }
   ],
   "source": [
    "data=df[df['Gender'] == 'Female']\n",
    "most = data['Future Career'].mode()[0]\n",
    "most"
   ]
  },
  {
   "cell_type": "markdown",
   "id": "e11d233d",
   "metadata": {},
   "source": [
    "### 20.What is the average GPA of students aiming to work in Machine Learning?"
   ]
  },
  {
   "cell_type": "code",
   "execution_count": 89,
   "id": "e4fc26e1",
   "metadata": {},
   "outputs": [
    {
     "data": {
      "text/plain": [
       "nan"
      ]
     },
     "execution_count": 89,
     "metadata": {},
     "output_type": "execute_result"
    }
   ],
   "source": [
    "data=df[df['Future Career'] == 'Machine Learning']\n",
    "data['GPA'].mean()"
   ]
  },
  {
   "cell_type": "code",
   "execution_count": null,
   "id": "51801878",
   "metadata": {},
   "outputs": [],
   "source": []
  }
 ],
 "metadata": {
  "kernelspec": {
   "display_name": "Python 3 (ipykernel)",
   "language": "python",
   "name": "python3"
  },
  "language_info": {
   "codemirror_mode": {
    "name": "ipython",
    "version": 3
   },
   "file_extension": ".py",
   "mimetype": "text/x-python",
   "name": "python",
   "nbconvert_exporter": "python",
   "pygments_lexer": "ipython3",
   "version": "3.11.7"
  }
 },
 "nbformat": 4,
 "nbformat_minor": 5
}
